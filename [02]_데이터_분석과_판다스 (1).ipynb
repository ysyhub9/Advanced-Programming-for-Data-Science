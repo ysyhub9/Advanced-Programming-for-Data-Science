{
  "nbformat": 4,
  "nbformat_minor": 0,
  "metadata": {
    "colab": {
      "provenance": []
    },
    "kernelspec": {
      "name": "python3",
      "display_name": "Python 3"
    },
    "language_info": {
      "name": "python"
    }
  },
  "cells": [
    {
      "cell_type": "markdown",
      "source": [
        "# 🔹 데이터 분석과 판다스: Series의 이해\n",
        "\n",
        "- **판다스(Pandas)**는 파이썬에서 데이터를 다루는 대표적인 라이브러리  \n",
        "- 핵심 자료 구조: **Series**와 **DataFrame**  \n",
        "- **Series**: 1차원 데이터(리스트와 비슷)  \n",
        "- **DataFrame**: 2차원 데이터(엑셀 표와 비슷)"
      ],
      "metadata": {
        "id": "xpBQxpwyuxjZ"
      }
    },
    {
      "cell_type": "code",
      "execution_count": 1,
      "metadata": {
        "id": "AsXew5oZuRmo",
        "colab": {
          "base_uri": "https://localhost:8080/"
        },
        "outputId": "404e6d35-791a-4d1c-a425-7ec58cd73e6e"
      },
      "outputs": [
        {
          "output_type": "stream",
          "name": "stdout",
          "text": [
            "0    25\n",
            "1    34\n",
            "2    19\n",
            "3    45\n",
            "4    60\n",
            "dtype: int64\n",
            "<class 'pandas.core.series.Series'>\n"
          ]
        }
      ],
      "source": [
        "import pandas as pd\n",
        "\n",
        "# 직접 리스트 입력 → Series 생성\n",
        "age = pd.Series([25, 34, 19, 45, 60])\n",
        "\n",
        "# age의 내용 출력\n",
        "print(age)\n",
        "\n",
        "# age의 데이터형 확인\n",
        "print(type(age))"
      ]
    },
    {
      "cell_type": "markdown",
      "source": [
        "# 🔹 Series 생성 방법\n",
        "\n",
        "- **리스트(list)를 직접 입력**해서 만들 수 있음  \n",
        "- 출력 결과에서 **왼쪽 숫자(0,1,2,...)는 인덱스(index)**  \n",
        "- 오른쪽 값은 실제 데이터(value)  \n",
        "\n",
        "👉 Series는 리스트와 달리 **인덱스와 값**이 한 쌍으로 출력됨"
      ],
      "metadata": {
        "id": "byxti84UvTvE"
      }
    },
    {
      "cell_type": "code",
      "source": [
        "# 이미 만들어진 리스트를 Series로 변환\n",
        "data = ['spring', 'summer', 'fall', 'winter']\n",
        "season = pd.Series(data)\n",
        "\n",
        "print(season)"
      ],
      "metadata": {
        "id": "KgK4iLNWvYvP",
        "colab": {
          "base_uri": "https://localhost:8080/"
        },
        "outputId": "8a2530bf-5efe-4f92-d14c-fd1de731ec54"
      },
      "execution_count": 2,
      "outputs": [
        {
          "output_type": "stream",
          "name": "stdout",
          "text": [
            "0    spring\n",
            "1    summer\n",
            "2      fall\n",
            "3    winter\n",
            "dtype: object\n"
          ]
        }
      ]
    },
    {
      "cell_type": "markdown",
      "source": [
        "# 🔹 인덱스(index)로 값 접근하기\n",
        "\n",
        "- `season.iloc[번호]` → 번호(index)에 해당하는 값 가져오기  \n",
        "- 인덱스는 0부터 시작함 (리스트와 동일)  \n",
        "- 예: `season.iloc[2]` → 세 번째 값 = \"fall\""
      ],
      "metadata": {
        "id": "VrtYUzXRvgs7"
      }
    },
    {
      "cell_type": "code",
      "source": [
        "# 인덱스 2의 값 가져오기\n",
        "print(season.iloc[2])"
      ],
      "metadata": {
        "id": "PGJHiT75vkWr",
        "colab": {
          "base_uri": "https://localhost:8080/"
        },
        "outputId": "ada80bbc-4854-4db1-e802-4ae44e844ebf"
      },
      "execution_count": 3,
      "outputs": [
        {
          "output_type": "stream",
          "name": "stdout",
          "text": [
            "fall\n"
          ]
        }
      ]
    },
    {
      "cell_type": "markdown",
      "source": [
        "# 🔹 생각해 보기\n",
        "\n",
        "1. `season.iloc[2]` 대신 `season.iloc[0]`을 실행하면 어떤 값이 나올까?  \n",
        "2. `age = pd.Series([25, 34, 19, 45, 60])`에서 값을 바꿔  \n",
        "   `[10, 20, 30, 40, 50]`으로 만들면 출력 결과가 어떻게 달라질까?  \n",
        "3. `type(age)` 대신 `age.mean()`을 실행하면 어떤 결과가 나올까?"
      ],
      "metadata": {
        "id": "wqQAj9BLvw6l"
      }
    },
    {
      "cell_type": "code",
      "source": [
        "print(season.iloc[0])"
      ],
      "metadata": {
        "id": "Fu-Mt_6hJ5Ox",
        "colab": {
          "base_uri": "https://localhost:8080/"
        },
        "outputId": "0debd335-f444-4154-9db4-dc00a09b9b1c"
      },
      "execution_count": 4,
      "outputs": [
        {
          "output_type": "stream",
          "name": "stdout",
          "text": [
            "spring\n"
          ]
        }
      ]
    },
    {
      "cell_type": "code",
      "source": [
        "age = pd.Series([10, 20, 30, 40, 50])\n",
        "print(age)"
      ],
      "metadata": {
        "id": "hV77LgbMJ8NP",
        "colab": {
          "base_uri": "https://localhost:8080/"
        },
        "outputId": "11a71417-84bc-4fcc-8b15-541f74126f41"
      },
      "execution_count": 5,
      "outputs": [
        {
          "output_type": "stream",
          "name": "stdout",
          "text": [
            "0    10\n",
            "1    20\n",
            "2    30\n",
            "3    40\n",
            "4    50\n",
            "dtype: int64\n"
          ]
        }
      ]
    },
    {
      "cell_type": "code",
      "source": [
        "print(age.mean())"
      ],
      "metadata": {
        "id": "KkM5NjHnKEe1",
        "colab": {
          "base_uri": "https://localhost:8080/"
        },
        "outputId": "d885abcd-4733-41fa-95da-e880572f38d9"
      },
      "execution_count": 6,
      "outputs": [
        {
          "output_type": "stream",
          "name": "stdout",
          "text": [
            "30.0\n"
          ]
        }
      ]
    },
    {
      "cell_type": "markdown",
      "source": [
        "# 🔹 DataFrame의 이해\n",
        "\n",
        "- **DataFrame**은 판다스의 2차원 자료구조  \n",
        "- 행(row) × 열(column) 구조 → 엑셀, CSV, SQL 테이블과 유사  \n",
        "- `pd.DataFrame(리스트)`로 생성 가능  \n",
        "- `Series` 여러 개가 합쳐진 형태라고 볼 수도 있음"
      ],
      "metadata": {
        "id": "U8k9RHdCwIM5"
      }
    },
    {
      "cell_type": "code",
      "source": [
        "import pandas as pd\n",
        "\n",
        "# 2차원 리스트로부터 데이터프레임 생성\n",
        "score = pd.DataFrame([[85, 96, 40, 95],\n",
        "                      [73, 69, 45, 80],\n",
        "                      [78, 50, 60, 90]])\n",
        "\n",
        "# 내용 출력\n",
        "print(score)\n",
        "\n",
        "# 자료형 확인\n",
        "print(type(score))"
      ],
      "metadata": {
        "id": "_Rgdt9NNwMLz",
        "colab": {
          "base_uri": "https://localhost:8080/"
        },
        "outputId": "de08b240-8670-4d82-9c86-3ea06c188434"
      },
      "execution_count": 7,
      "outputs": [
        {
          "output_type": "stream",
          "name": "stdout",
          "text": [
            "    0   1   2   3\n",
            "0  85  96  40  95\n",
            "1  73  69  45  80\n",
            "2  78  50  60  90\n",
            "<class 'pandas.core.frame.DataFrame'>\n"
          ]
        }
      ]
    },
    {
      "cell_type": "markdown",
      "source": [
        "# 🔹 DataFrame의 기본 속성\n",
        "\n",
        "- `.index` → 행(row) 인덱스 (기본값: 0, 1, 2, ...)  \n",
        "- `.columns` → 열(column) 인덱스 (기본값: 0, 1, 2, ...)  \n",
        "\n",
        "👉 인덱스는 데이터 탐색과 선택에서 매우 중요한 역할을 함"
      ],
      "metadata": {
        "id": "UU8HCGfMwQqz"
      }
    },
    {
      "cell_type": "code",
      "source": [
        "# 행 인덱스\n",
        "print(score.index)\n",
        "\n",
        "# 열 인덱스\n",
        "print(score.columns)"
      ],
      "metadata": {
        "id": "MqhFq3MNwUdh",
        "colab": {
          "base_uri": "https://localhost:8080/"
        },
        "outputId": "f6b76a31-5362-4a0a-a602-2201f5144f36"
      },
      "execution_count": 8,
      "outputs": [
        {
          "output_type": "stream",
          "name": "stdout",
          "text": [
            "RangeIndex(start=0, stop=3, step=1)\n",
            "RangeIndex(start=0, stop=4, step=1)\n"
          ]
        }
      ]
    },
    {
      "cell_type": "markdown",
      "source": [
        "# 🔹 특정 원소 접근하기\n",
        "\n",
        "- `iloc[행번호, 열번호]` 형식으로 원하는 원소를 선택  \n",
        "- 예: `iloc[1, 2]` → 1행 2열의 값 (0부터 시작)  \n",
        "- 즉, 두 번째 행 & 세 번째 열의 값을 가져옴"
      ],
      "metadata": {
        "id": "goaqmlbLwdPi"
      }
    },
    {
      "cell_type": "code",
      "source": [
        "# 1행 2열 값 가져오기\n",
        "print(score.iloc[1, 2])"
      ],
      "metadata": {
        "id": "GumGHLdwwfvv",
        "colab": {
          "base_uri": "https://localhost:8080/"
        },
        "outputId": "f41d5ff6-6aa4-4d67-a2d6-2a0f2fcaadea"
      },
      "execution_count": 9,
      "outputs": [
        {
          "output_type": "stream",
          "name": "stdout",
          "text": [
            "45\n"
          ]
        }
      ]
    },
    {
      "cell_type": "markdown",
      "source": [
        "# 🔹 생각해 보기\n",
        "\n",
        "1. `score.iloc[1, 2]` 대신 `score.iloc[0, 0]`을 실행하면 어떤 값이 나올까?  \n",
        "2. `score.index`와 `score.columns` 결과를 확인했을 때,  \n",
        "   인덱스를 원하는 숫자나 문자로 바꾸려면 어떤 방법이 있을까?  \n",
        "3. `score.iloc[2]`만 실행하면 어떤 결과가 나올까?"
      ],
      "metadata": {
        "id": "qbLkI3sxwhfw"
      }
    },
    {
      "cell_type": "code",
      "source": [
        "# 1행 2열 값 가져오기\n",
        "print(score.iloc[0, 0])"
      ],
      "metadata": {
        "id": "zLmcur2UwoR7",
        "colab": {
          "base_uri": "https://localhost:8080/"
        },
        "outputId": "d755d790-504a-454f-cddc-82ed27b6f2ed"
      },
      "execution_count": 10,
      "outputs": [
        {
          "output_type": "stream",
          "name": "stdout",
          "text": [
            "85\n"
          ]
        }
      ]
    },
    {
      "cell_type": "code",
      "source": [
        "score.index = [\"Korea\", \"Japan\", \"China\"]\n",
        "print(score)"
      ],
      "metadata": {
        "id": "2l8iummXLOIf",
        "colab": {
          "base_uri": "https://localhost:8080/"
        },
        "outputId": "5f56d69a-6cdb-490e-a6ad-83bc1242e907"
      },
      "execution_count": 11,
      "outputs": [
        {
          "output_type": "stream",
          "name": "stdout",
          "text": [
            "        0   1   2   3\n",
            "Korea  85  96  40  95\n",
            "Japan  73  69  45  80\n",
            "China  78  50  60  90\n"
          ]
        }
      ]
    },
    {
      "cell_type": "code",
      "source": [
        "score.iloc[2]"
      ],
      "metadata": {
        "id": "YQQ2xZF3Ldmh",
        "colab": {
          "base_uri": "https://localhost:8080/",
          "height": 210
        },
        "outputId": "4f7a3032-18fd-45b9-aea4-70794e8a9725"
      },
      "execution_count": 30,
      "outputs": [
        {
          "output_type": "execute_result",
          "data": {
            "text/plain": [
              "KOR     78\n",
              "ENG     50\n",
              "MATH    60\n",
              "SCI     90\n",
              "Name: Tom, dtype: int64"
            ],
            "text/html": [
              "<div>\n",
              "<style scoped>\n",
              "    .dataframe tbody tr th:only-of-type {\n",
              "        vertical-align: middle;\n",
              "    }\n",
              "\n",
              "    .dataframe tbody tr th {\n",
              "        vertical-align: top;\n",
              "    }\n",
              "\n",
              "    .dataframe thead th {\n",
              "        text-align: right;\n",
              "    }\n",
              "</style>\n",
              "<table border=\"1\" class=\"dataframe\">\n",
              "  <thead>\n",
              "    <tr style=\"text-align: right;\">\n",
              "      <th></th>\n",
              "      <th>Tom</th>\n",
              "    </tr>\n",
              "  </thead>\n",
              "  <tbody>\n",
              "    <tr>\n",
              "      <th>KOR</th>\n",
              "      <td>78</td>\n",
              "    </tr>\n",
              "    <tr>\n",
              "      <th>ENG</th>\n",
              "      <td>50</td>\n",
              "    </tr>\n",
              "    <tr>\n",
              "      <th>MATH</th>\n",
              "      <td>60</td>\n",
              "    </tr>\n",
              "    <tr>\n",
              "      <th>SCI</th>\n",
              "      <td>90</td>\n",
              "    </tr>\n",
              "  </tbody>\n",
              "</table>\n",
              "</div><br><label><b>dtype:</b> int64</label>"
            ]
          },
          "metadata": {},
          "execution_count": 30
        }
      ]
    },
    {
      "cell_type": "markdown",
      "source": [
        "# 🔹 Series에 레이블 부여하기\n",
        "\n",
        "- 기본적으로 Series는 0, 1, 2... 순서의 숫자 인덱스를 가짐  \n",
        "- 하지만 원하는 이름(레이블)을 지정할 수 있음  \n",
        "- `Series.index = [...]` 로 행 이름을 지정  \n",
        "\n",
        "👉 이렇게 하면 단순한 숫자 대신 **사람 이름, 날짜 등 의미 있는 인덱스**를 사용할 수 있음\n",
        "\n"
      ],
      "metadata": {
        "id": "vvyXOq9Yw92A"
      }
    },
    {
      "cell_type": "code",
      "source": [
        "import pandas as pd\n",
        "\n",
        "# 기본 인덱스 (0,1,2,3)\n",
        "age = pd.Series([25, 34, 19, 45])\n",
        "print(\"레이블 부여 전:\")\n",
        "print(age)\n",
        "\n",
        "# 사용자 정의 인덱스 부여\n",
        "age.index = ['John', 'Jane', 'Tom', 'Luka']\n",
        "print(\"\\n레이블 부여 후:\")\n",
        "print(age)"
      ],
      "metadata": {
        "id": "24pII_OvxH86",
        "colab": {
          "base_uri": "https://localhost:8080/"
        },
        "outputId": "10d5e821-de45-4c9a-f56b-6f10f76554b2"
      },
      "execution_count": 13,
      "outputs": [
        {
          "output_type": "stream",
          "name": "stdout",
          "text": [
            "레이블 부여 전:\n",
            "0    25\n",
            "1    34\n",
            "2    19\n",
            "3    45\n",
            "dtype: int64\n",
            "\n",
            "레이블 부여 후:\n",
            "John    25\n",
            "Jane    34\n",
            "Tom     19\n",
            "Luka    45\n",
            "dtype: int64\n"
          ]
        }
      ]
    },
    {
      "cell_type": "markdown",
      "source": [
        "# 🔹 iloc vs loc (Series)\n",
        "\n",
        "- `iloc[번호]` → **절대 위치 기반** 인덱싱  \n",
        "- `loc['레이블']` → **이름(레이블) 기반** 인덱싱  \n",
        "\n",
        "예시:  \n",
        "- `age.iloc[2]` → 세 번째 값 (Tom의 값)  \n",
        "- `age.loc['Tom']` → 'Tom'이라는 이름을 가진 값"
      ],
      "metadata": {
        "id": "RdIZIVexxKA3"
      }
    },
    {
      "cell_type": "code",
      "source": [
        "print(age.iloc[2])       # 절대 위치\n",
        "print(age.loc['Tom'])    # 레이블 기반"
      ],
      "metadata": {
        "id": "26CgVS14xMrU",
        "colab": {
          "base_uri": "https://localhost:8080/"
        },
        "outputId": "ee779413-b21e-40b2-c7f3-1bf87f9177e2"
      },
      "execution_count": 14,
      "outputs": [
        {
          "output_type": "stream",
          "name": "stdout",
          "text": [
            "19\n",
            "19\n"
          ]
        }
      ]
    },
    {
      "cell_type": "markdown",
      "source": [
        "# 🔹 DataFrame에 레이블 부여하기\n",
        "\n",
        "- `DataFrame.index = [...]` → 행 이름 지정  \n",
        "- `DataFrame.columns = [...]` → 열 이름 지정  \n",
        "\n",
        "👉 레이블을 부여하면 데이터 해석이 훨씬 쉬워짐"
      ],
      "metadata": {
        "id": "dUVD8FiIxPUb"
      }
    },
    {
      "cell_type": "code",
      "source": [
        "# 레이블 부여 전\n",
        "score = pd.DataFrame([[85, 96, 40, 95],\n",
        "                      [73, 69, 45, 80],\n",
        "                      [78, 50, 60, 90]])\n",
        "print(\"레이블 부여 전:\")\n",
        "print(score)\n",
        "\n",
        "# 행과 열 레이블 지정\n",
        "score.index = ['John', 'Jane', 'Tom']\n",
        "score.columns = ['KOR', 'ENG', 'MATH', 'SCI']\n",
        "\n",
        "print(\"\\n레이블 부여 후:\")\n",
        "print(score)"
      ],
      "metadata": {
        "id": "NdqrXwp8xRTp",
        "colab": {
          "base_uri": "https://localhost:8080/"
        },
        "outputId": "39a40991-e72d-48aa-b74e-a68211cd1bbb"
      },
      "execution_count": 15,
      "outputs": [
        {
          "output_type": "stream",
          "name": "stdout",
          "text": [
            "레이블 부여 전:\n",
            "    0   1   2   3\n",
            "0  85  96  40  95\n",
            "1  73  69  45  80\n",
            "2  78  50  60  90\n",
            "\n",
            "레이블 부여 후:\n",
            "      KOR  ENG  MATH  SCI\n",
            "John   85   96    40   95\n",
            "Jane   73   69    45   80\n",
            "Tom    78   50    60   90\n"
          ]
        }
      ]
    },
    {
      "cell_type": "markdown",
      "source": [
        "# 🔹 iloc vs loc (DataFrame)\n",
        "\n",
        "- `iloc[행번호, 열번호]` → 절대 위치 기반 접근  \n",
        "- `loc['행레이블', '열레이블']` → 레이블 기반 접근  \n",
        "\n",
        "예시:  \n",
        "- `score.iloc[2, 1]` → 2행 1열 값 (Tom의 ENG 점수)  \n",
        "- `score.loc['Tom', 'ENG']` → Tom 학생의 ENG 점수"
      ],
      "metadata": {
        "id": "4ue3TqAMxU2x"
      }
    },
    {
      "cell_type": "code",
      "source": [
        "print(score.iloc[2, 1])           # 절대 위치 접근\n",
        "print(score.loc['Tom', 'ENG'])    # 레이블 기반 접근"
      ],
      "metadata": {
        "id": "eq7-T1dGxXWo",
        "colab": {
          "base_uri": "https://localhost:8080/"
        },
        "outputId": "c9839a83-a249-46f0-ccda-897a12f4dd45"
      },
      "execution_count": 16,
      "outputs": [
        {
          "output_type": "stream",
          "name": "stdout",
          "text": [
            "50\n",
            "50\n"
          ]
        }
      ]
    },
    {
      "cell_type": "markdown",
      "source": [
        "# 🔹 생각해 보기\n",
        "\n",
        "1. `age.loc['Luka']`를 실행하면 어떤 값이 나올까?  \n",
        "2. `score.loc['Jane', 'MATH']`을 실행하면 어떤 값이 출력될까?  \n",
        "3. `score.iloc[0]`만 실행하면 어떤 결과가 나올까?"
      ],
      "metadata": {
        "id": "44xQ1B-nxqWb"
      }
    },
    {
      "cell_type": "code",
      "source": [
        "print(age.loc['Luka'])"
      ],
      "metadata": {
        "id": "7eAsdL9oxzWV",
        "colab": {
          "base_uri": "https://localhost:8080/"
        },
        "outputId": "cf4f0428-7f2c-4de2-fb90-fa99ca14cce4"
      },
      "execution_count": 17,
      "outputs": [
        {
          "output_type": "stream",
          "name": "stdout",
          "text": [
            "45\n"
          ]
        }
      ]
    },
    {
      "cell_type": "code",
      "source": [
        "print(score.loc['Jane', 'MATH'])"
      ],
      "metadata": {
        "id": "mDE5OCOJL7Dr",
        "colab": {
          "base_uri": "https://localhost:8080/"
        },
        "outputId": "958f92e2-40d8-4627-bf21-7c24c16674c5"
      },
      "execution_count": 18,
      "outputs": [
        {
          "output_type": "stream",
          "name": "stdout",
          "text": [
            "45\n"
          ]
        }
      ]
    },
    {
      "cell_type": "code",
      "source": [
        "score.iloc[0] #index, column을 추가했기 때문에 가능"
      ],
      "metadata": {
        "id": "FXQQ-i95MLWj",
        "colab": {
          "base_uri": "https://localhost:8080/",
          "height": 210
        },
        "outputId": "dc36f134-6be3-40c1-fce4-c1ba999d60ba"
      },
      "execution_count": 19,
      "outputs": [
        {
          "output_type": "execute_result",
          "data": {
            "text/plain": [
              "KOR     85\n",
              "ENG     96\n",
              "MATH    40\n",
              "SCI     95\n",
              "Name: John, dtype: int64"
            ],
            "text/html": [
              "<div>\n",
              "<style scoped>\n",
              "    .dataframe tbody tr th:only-of-type {\n",
              "        vertical-align: middle;\n",
              "    }\n",
              "\n",
              "    .dataframe tbody tr th {\n",
              "        vertical-align: top;\n",
              "    }\n",
              "\n",
              "    .dataframe thead th {\n",
              "        text-align: right;\n",
              "    }\n",
              "</style>\n",
              "<table border=\"1\" class=\"dataframe\">\n",
              "  <thead>\n",
              "    <tr style=\"text-align: right;\">\n",
              "      <th></th>\n",
              "      <th>John</th>\n",
              "    </tr>\n",
              "  </thead>\n",
              "  <tbody>\n",
              "    <tr>\n",
              "      <th>KOR</th>\n",
              "      <td>85</td>\n",
              "    </tr>\n",
              "    <tr>\n",
              "      <th>ENG</th>\n",
              "      <td>96</td>\n",
              "    </tr>\n",
              "    <tr>\n",
              "      <th>MATH</th>\n",
              "      <td>40</td>\n",
              "    </tr>\n",
              "    <tr>\n",
              "      <th>SCI</th>\n",
              "      <td>95</td>\n",
              "    </tr>\n",
              "  </tbody>\n",
              "</table>\n",
              "</div><br><label><b>dtype:</b> int64</label>"
            ]
          },
          "metadata": {},
          "execution_count": 19
        }
      ]
    },
    {
      "cell_type": "markdown",
      "source": [
        "# 🔹 중복 레이블이 있는 Series\n",
        "\n",
        "- Series의 인덱스는 꼭 고유(unique)할 필요는 없음  \n",
        "- 동일한 이름(레이블)이 여러 번 등장할 수도 있음  \n",
        "- 이 경우 `iloc`과 `loc`의 동작이 달라짐\n",
        "\n",
        "👉 주의!  \n",
        "- **iloc** → 위치 기반 → 하나의 값 반환  \n",
        "- **loc** → 이름 기반 → 같은 이름이 여러 개면 **여러 값 반환**"
      ],
      "metadata": {
        "id": "w2dz_BxkxziS"
      }
    },
    {
      "cell_type": "code",
      "source": [
        "import pandas as pd\n",
        "\n",
        "age = pd.Series([25, 34, 19, 45, 60])\n",
        "age.index = ['John', 'Jane', 'Tom', 'Micle', 'Tom']\n",
        "\n",
        "print(\"Series 내용:\")\n",
        "print(age)\n",
        "\n",
        "# 위치 기반 (iloc)\n",
        "print(\"\\nage.iloc[3] →\")\n",
        "print(age.iloc[3])\n",
        "\n",
        "# 레이블 기반 (loc)\n",
        "print(\"\\nage.loc['Tom'] →\")\n",
        "print(age.loc['Tom'])   # 중복된 Tom이 있어도 동시에 출력됨"
      ],
      "metadata": {
        "id": "-TL8E6wxyBBX",
        "colab": {
          "base_uri": "https://localhost:8080/"
        },
        "outputId": "3f8ec967-6000-48da-99f8-1384e9bf4421"
      },
      "execution_count": 20,
      "outputs": [
        {
          "output_type": "stream",
          "name": "stdout",
          "text": [
            "Series 내용:\n",
            "John     25\n",
            "Jane     34\n",
            "Tom      19\n",
            "Micle    45\n",
            "Tom      60\n",
            "dtype: int64\n",
            "\n",
            "age.iloc[3] →\n",
            "45\n",
            "\n",
            "age.loc['Tom'] →\n",
            "Tom    19\n",
            "Tom    60\n",
            "dtype: int64\n"
          ]
        }
      ]
    },
    {
      "cell_type": "markdown",
      "source": [
        "# 🔹 결과 해석\n",
        "\n",
        "- `age.iloc[3]` → 인덱스 번호 3의 값 → \"Micle\"의 45 반환  \n",
        "- `age.loc['Tom']` → 'Tom'이라는 이름이 2번 등장 → **두 개의 값(19, 60)을 모두 반환**  \n",
        "\n",
        "👉 따라서 레이블을 중복으로 사용하면 loc에서는 여러 행이 선택될 수 있음"
      ],
      "metadata": {
        "id": "Pz8GUxczyJbU"
      }
    },
    {
      "cell_type": "markdown",
      "source": [
        "# 🔹 생각해 보기\n",
        "\n",
        "1. `age.loc['John']`을 실행하면 어떤 값이 나올까?  \n",
        "2. `age.loc['Tom'].iloc[0]`을 실행하면 어떤 결과가 나올까?  \n",
        "3. 만약 모든 인덱스를 고유하게(unique) 만들고 싶다면 어떤 방법이 있을까?  \n",
        "   (힌트: `reset_index()`, `drop_duplicates()` 등 활용)"
      ],
      "metadata": {
        "id": "jG0m9aOcyL7P"
      }
    },
    {
      "cell_type": "code",
      "source": [
        "print(age.loc['John'])"
      ],
      "metadata": {
        "id": "uHGKZ1vayRcq",
        "colab": {
          "base_uri": "https://localhost:8080/"
        },
        "outputId": "f1cbfbad-9971-4adb-8460-7fe1e7b25270"
      },
      "execution_count": 21,
      "outputs": [
        {
          "output_type": "stream",
          "name": "stdout",
          "text": [
            "25\n"
          ]
        }
      ]
    },
    {
      "cell_type": "code",
      "source": [
        "print(age.loc['Tom'].iloc[0])"
      ],
      "metadata": {
        "id": "7302hPw4MXmH",
        "colab": {
          "base_uri": "https://localhost:8080/"
        },
        "outputId": "d4c424ee-c5ac-42b4-c623-cd32ce5a6d55"
      },
      "execution_count": 22,
      "outputs": [
        {
          "output_type": "stream",
          "name": "stdout",
          "text": [
            "19\n"
          ]
        }
      ]
    },
    {
      "cell_type": "code",
      "source": [
        "age_unique = age.reset_index(drop=True) #고유 인덱스 0,1,2... 출력\n",
        "print(age_unique)"
      ],
      "metadata": {
        "id": "ELZTzPAvMjWI",
        "colab": {
          "base_uri": "https://localhost:8080/"
        },
        "outputId": "7d5217f7-0581-4075-9631-17127f875104"
      },
      "execution_count": 23,
      "outputs": [
        {
          "output_type": "stream",
          "name": "stdout",
          "text": [
            "0    25\n",
            "1    34\n",
            "2    19\n",
            "3    45\n",
            "4    60\n",
            "dtype: int64\n"
          ]
        }
      ]
    },
    {
      "cell_type": "markdown",
      "source": [
        "# 🔹 숫자 레이블 지정하기\n",
        "\n",
        "- Series의 인덱스는 꼭 문자열이 아니라 **숫자**로도 지정할 수 있음  \n",
        "- 하지만 주의할 점:  \n",
        "  - `iloc[숫자]` → **위치 기반** (0부터 시작하는 순서)  \n",
        "  - `loc[숫자]` → **레이블 기반** (직접 지정한 인덱스 값)\n",
        "\n",
        "👉 따라서 숫자 레이블을 쓰면 헷갈릴 수 있음"
      ],
      "metadata": {
        "id": "0GOhECgayRxz"
      }
    },
    {
      "cell_type": "code",
      "source": [
        "import pandas as pd\n",
        "\n",
        "population = pd.Series([523, 675, 690, 720, 800])\n",
        "population.index = [10, 20, 30, 40, 50]  # 숫자 레이블 지정\n",
        "\n",
        "print(\"Series 내용:\")\n",
        "print(population)\n",
        "\n",
        "# 위치 기반 (iloc)\n",
        "print(\"\\npopulation.iloc[1] →\")\n",
        "print(population.iloc[1])\n",
        "\n",
        "# 잘못된 접근 (iloc[20] → IndexError)\n",
        "# print(population.iloc[20])  # 실행 시 에러 발생\n",
        "\n",
        "# 레이블 기반 (loc)\n",
        "print(\"\\npopulation.loc[20] →\")\n",
        "print(population.loc[20])"
      ],
      "metadata": {
        "id": "Im3S3WQfyfa1",
        "colab": {
          "base_uri": "https://localhost:8080/"
        },
        "outputId": "bfc206ae-d0d3-487d-e742-7248856c825b"
      },
      "execution_count": 24,
      "outputs": [
        {
          "output_type": "stream",
          "name": "stdout",
          "text": [
            "Series 내용:\n",
            "10    523\n",
            "20    675\n",
            "30    690\n",
            "40    720\n",
            "50    800\n",
            "dtype: int64\n",
            "\n",
            "population.iloc[1] →\n",
            "675\n",
            "\n",
            "population.loc[20] →\n",
            "675\n"
          ]
        }
      ]
    },
    {
      "cell_type": "markdown",
      "source": [
        "# 🔹 결과 해석\n",
        "\n",
        "- `population.iloc[1]` → 위치 1의 값 → **675**  \n",
        "- `population.iloc[20]` → 없는 위치라서 **IndexError 발생**  \n",
        "- `population.loc[20]` → 레이블이 20인 값 → **675**\n",
        "\n",
        "👉 즉, 숫자를 레이블로 지정하면  \n",
        "- iloc = 단순히 순서 번호  \n",
        "- loc = 내가 지정한 숫자 (레이블)  \n",
        "로 완전히 다르게 동작"
      ],
      "metadata": {
        "id": "HaYnEr1uyjm-"
      }
    },
    {
      "cell_type": "markdown",
      "source": [
        "# 🔹 생각해 보기\n",
        "\n",
        "1. `population.loc[50]`을 실행하면 어떤 값이 나올까?  \n",
        "2. `population.iloc[4]`와 `population.loc[50]`은 같은 결과를 줄까?  \n",
        "3. 인덱스가 숫자라 헷갈릴 수 있는데, 만약 'A', 'B', 'C', ...와 같은 문자 레이블로 바꾼다면 접근은 어떻게 달라질까?"
      ],
      "metadata": {
        "id": "WRLEEVLdyk4R"
      }
    },
    {
      "cell_type": "code",
      "source": [
        "population.index = [\"A\", \"B\", \"C\", \"D\", \"E\"]  # 숫자 레이블 지정\n",
        "print(population)"
      ],
      "metadata": {
        "id": "6wfg3tgqyoGk",
        "colab": {
          "base_uri": "https://localhost:8080/"
        },
        "outputId": "8e5aa54e-619a-4192-c4b6-0a119d4fe7c3"
      },
      "execution_count": 25,
      "outputs": [
        {
          "output_type": "stream",
          "name": "stdout",
          "text": [
            "A    523\n",
            "B    675\n",
            "C    690\n",
            "D    720\n",
            "E    800\n",
            "dtype: int64\n"
          ]
        }
      ]
    }
  ]
}