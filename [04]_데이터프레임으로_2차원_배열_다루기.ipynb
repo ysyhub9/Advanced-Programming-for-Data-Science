{
  "nbformat": 4,
  "nbformat_minor": 0,
  "metadata": {
    "colab": {
      "provenance": []
    },
    "kernelspec": {
      "name": "python3",
      "display_name": "Python 3"
    },
    "language_info": {
      "name": "python"
    }
  },
  "cells": [
    {
      "cell_type": "markdown",
      "source": [
        "# 1. 환경 설정 및 데이터 불러오기  \n",
        "\n",
        "🔹 **핵심 라이브러리**  \n",
        "- `pandas` : 표 형태의 데이터를 다루는 핵심 라이브러리 (**별칭 → `pd`**)  \n",
        "- `seaborn` : 데이터 시각화 라이브러리이자, **유명한 예제 데이터 셋** 포함  \n",
        "\n",
        "🔹 **Colab에서 데이터 로딩 방법**  \n",
        "- 로컬 파일(`d:/data/iris.csv`) 직접 로드는 **Colab에서 번거로움**  \n",
        "- ✅ 대신 `seaborn` 내장 데이터 셋 활용 → 어떤 환경에서도 동일 실행 가능  \n",
        "- → **재현성(Repeatability)** 확보 & **좋은 실습 습관**"
      ],
      "metadata": {
        "id": "I9j3-ytWkwzq"
      }
    },
    {
      "cell_type": "code",
      "execution_count": 60,
      "metadata": {
        "id": "jtgBG413kwRN"
      },
      "outputs": [],
      "source": [
        "# 데이터 분석의 핵심 라이브러리 pandas를 pd라는 별칭으로 불러옵니다.\n",
        "import pandas as pd\n",
        "# 데이터 시각화 및 예제 데이터셋 로드를 위한 seaborn 라이브러리를 sns라는 별칭으로 불러옵니다.\n",
        "import seaborn as sns"
      ]
    },
    {
      "cell_type": "code",
      "source": [
        "# seaborn 라이브러리에 내장된 iris 데이터셋을 DataFrame 형태로 불러옵니다.\n",
        "# Colab 환경에서는 이 방식이 파일 경로 문제 없이 가장 편리하고 재현성이 높습니다.\n",
        "df = sns.load_dataset('iris')"
      ],
      "metadata": {
        "id": "wQi7PFa3DAHV"
      },
      "execution_count": 61,
      "outputs": []
    },
    {
      "cell_type": "code",
      "source": [
        "# 데이터가 잘 불러와졌는지 첫 5개 행을 확인합니다.\n",
        "df.head()"
      ],
      "metadata": {
        "id": "xyKyk3XBDGfc",
        "colab": {
          "base_uri": "https://localhost:8080/",
          "height": 206
        },
        "outputId": "e66fa24e-d4af-4a55-cd83-551b941864cd"
      },
      "execution_count": 62,
      "outputs": [
        {
          "output_type": "execute_result",
          "data": {
            "text/plain": [
              "   sepal_length  sepal_width  petal_length  petal_width species\n",
              "0           5.1          3.5           1.4          0.2  setosa\n",
              "1           4.9          3.0           1.4          0.2  setosa\n",
              "2           4.7          3.2           1.3          0.2  setosa\n",
              "3           4.6          3.1           1.5          0.2  setosa\n",
              "4           5.0          3.6           1.4          0.2  setosa"
            ],
            "text/html": [
              "\n",
              "  <div id=\"df-93446612-096b-4a63-b14a-7746863a5494\" class=\"colab-df-container\">\n",
              "    <div>\n",
              "<style scoped>\n",
              "    .dataframe tbody tr th:only-of-type {\n",
              "        vertical-align: middle;\n",
              "    }\n",
              "\n",
              "    .dataframe tbody tr th {\n",
              "        vertical-align: top;\n",
              "    }\n",
              "\n",
              "    .dataframe thead th {\n",
              "        text-align: right;\n",
              "    }\n",
              "</style>\n",
              "<table border=\"1\" class=\"dataframe\">\n",
              "  <thead>\n",
              "    <tr style=\"text-align: right;\">\n",
              "      <th></th>\n",
              "      <th>sepal_length</th>\n",
              "      <th>sepal_width</th>\n",
              "      <th>petal_length</th>\n",
              "      <th>petal_width</th>\n",
              "      <th>species</th>\n",
              "    </tr>\n",
              "  </thead>\n",
              "  <tbody>\n",
              "    <tr>\n",
              "      <th>0</th>\n",
              "      <td>5.1</td>\n",
              "      <td>3.5</td>\n",
              "      <td>1.4</td>\n",
              "      <td>0.2</td>\n",
              "      <td>setosa</td>\n",
              "    </tr>\n",
              "    <tr>\n",
              "      <th>1</th>\n",
              "      <td>4.9</td>\n",
              "      <td>3.0</td>\n",
              "      <td>1.4</td>\n",
              "      <td>0.2</td>\n",
              "      <td>setosa</td>\n",
              "    </tr>\n",
              "    <tr>\n",
              "      <th>2</th>\n",
              "      <td>4.7</td>\n",
              "      <td>3.2</td>\n",
              "      <td>1.3</td>\n",
              "      <td>0.2</td>\n",
              "      <td>setosa</td>\n",
              "    </tr>\n",
              "    <tr>\n",
              "      <th>3</th>\n",
              "      <td>4.6</td>\n",
              "      <td>3.1</td>\n",
              "      <td>1.5</td>\n",
              "      <td>0.2</td>\n",
              "      <td>setosa</td>\n",
              "    </tr>\n",
              "    <tr>\n",
              "      <th>4</th>\n",
              "      <td>5.0</td>\n",
              "      <td>3.6</td>\n",
              "      <td>1.4</td>\n",
              "      <td>0.2</td>\n",
              "      <td>setosa</td>\n",
              "    </tr>\n",
              "  </tbody>\n",
              "</table>\n",
              "</div>\n",
              "    <div class=\"colab-df-buttons\">\n",
              "\n",
              "  <div class=\"colab-df-container\">\n",
              "    <button class=\"colab-df-convert\" onclick=\"convertToInteractive('df-93446612-096b-4a63-b14a-7746863a5494')\"\n",
              "            title=\"Convert this dataframe to an interactive table.\"\n",
              "            style=\"display:none;\">\n",
              "\n",
              "  <svg xmlns=\"http://www.w3.org/2000/svg\" height=\"24px\" viewBox=\"0 -960 960 960\">\n",
              "    <path d=\"M120-120v-720h720v720H120Zm60-500h600v-160H180v160Zm220 220h160v-160H400v160Zm0 220h160v-160H400v160ZM180-400h160v-160H180v160Zm440 0h160v-160H620v160ZM180-180h160v-160H180v160Zm440 0h160v-160H620v160Z\"/>\n",
              "  </svg>\n",
              "    </button>\n",
              "\n",
              "  <style>\n",
              "    .colab-df-container {\n",
              "      display:flex;\n",
              "      gap: 12px;\n",
              "    }\n",
              "\n",
              "    .colab-df-convert {\n",
              "      background-color: #E8F0FE;\n",
              "      border: none;\n",
              "      border-radius: 50%;\n",
              "      cursor: pointer;\n",
              "      display: none;\n",
              "      fill: #1967D2;\n",
              "      height: 32px;\n",
              "      padding: 0 0 0 0;\n",
              "      width: 32px;\n",
              "    }\n",
              "\n",
              "    .colab-df-convert:hover {\n",
              "      background-color: #E2EBFA;\n",
              "      box-shadow: 0px 1px 2px rgba(60, 64, 67, 0.3), 0px 1px 3px 1px rgba(60, 64, 67, 0.15);\n",
              "      fill: #174EA6;\n",
              "    }\n",
              "\n",
              "    .colab-df-buttons div {\n",
              "      margin-bottom: 4px;\n",
              "    }\n",
              "\n",
              "    [theme=dark] .colab-df-convert {\n",
              "      background-color: #3B4455;\n",
              "      fill: #D2E3FC;\n",
              "    }\n",
              "\n",
              "    [theme=dark] .colab-df-convert:hover {\n",
              "      background-color: #434B5C;\n",
              "      box-shadow: 0px 1px 3px 1px rgba(0, 0, 0, 0.15);\n",
              "      filter: drop-shadow(0px 1px 2px rgba(0, 0, 0, 0.3));\n",
              "      fill: #FFFFFF;\n",
              "    }\n",
              "  </style>\n",
              "\n",
              "    <script>\n",
              "      const buttonEl =\n",
              "        document.querySelector('#df-93446612-096b-4a63-b14a-7746863a5494 button.colab-df-convert');\n",
              "      buttonEl.style.display =\n",
              "        google.colab.kernel.accessAllowed ? 'block' : 'none';\n",
              "\n",
              "      async function convertToInteractive(key) {\n",
              "        const element = document.querySelector('#df-93446612-096b-4a63-b14a-7746863a5494');\n",
              "        const dataTable =\n",
              "          await google.colab.kernel.invokeFunction('convertToInteractive',\n",
              "                                                    [key], {});\n",
              "        if (!dataTable) return;\n",
              "\n",
              "        const docLinkHtml = 'Like what you see? Visit the ' +\n",
              "          '<a target=\"_blank\" href=https://colab.research.google.com/notebooks/data_table.ipynb>data table notebook</a>'\n",
              "          + ' to learn more about interactive tables.';\n",
              "        element.innerHTML = '';\n",
              "        dataTable['output_type'] = 'display_data';\n",
              "        await google.colab.output.renderOutput(dataTable, element);\n",
              "        const docLink = document.createElement('div');\n",
              "        docLink.innerHTML = docLinkHtml;\n",
              "        element.appendChild(docLink);\n",
              "      }\n",
              "    </script>\n",
              "  </div>\n",
              "\n",
              "\n",
              "    <div id=\"df-e5dce203-b998-4749-845f-9d7ca299c0d7\">\n",
              "      <button class=\"colab-df-quickchart\" onclick=\"quickchart('df-e5dce203-b998-4749-845f-9d7ca299c0d7')\"\n",
              "                title=\"Suggest charts\"\n",
              "                style=\"display:none;\">\n",
              "\n",
              "<svg xmlns=\"http://www.w3.org/2000/svg\" height=\"24px\"viewBox=\"0 0 24 24\"\n",
              "     width=\"24px\">\n",
              "    <g>\n",
              "        <path d=\"M19 3H5c-1.1 0-2 .9-2 2v14c0 1.1.9 2 2 2h14c1.1 0 2-.9 2-2V5c0-1.1-.9-2-2-2zM9 17H7v-7h2v7zm4 0h-2V7h2v10zm4 0h-2v-4h2v4z\"/>\n",
              "    </g>\n",
              "</svg>\n",
              "      </button>\n",
              "\n",
              "<style>\n",
              "  .colab-df-quickchart {\n",
              "      --bg-color: #E8F0FE;\n",
              "      --fill-color: #1967D2;\n",
              "      --hover-bg-color: #E2EBFA;\n",
              "      --hover-fill-color: #174EA6;\n",
              "      --disabled-fill-color: #AAA;\n",
              "      --disabled-bg-color: #DDD;\n",
              "  }\n",
              "\n",
              "  [theme=dark] .colab-df-quickchart {\n",
              "      --bg-color: #3B4455;\n",
              "      --fill-color: #D2E3FC;\n",
              "      --hover-bg-color: #434B5C;\n",
              "      --hover-fill-color: #FFFFFF;\n",
              "      --disabled-bg-color: #3B4455;\n",
              "      --disabled-fill-color: #666;\n",
              "  }\n",
              "\n",
              "  .colab-df-quickchart {\n",
              "    background-color: var(--bg-color);\n",
              "    border: none;\n",
              "    border-radius: 50%;\n",
              "    cursor: pointer;\n",
              "    display: none;\n",
              "    fill: var(--fill-color);\n",
              "    height: 32px;\n",
              "    padding: 0;\n",
              "    width: 32px;\n",
              "  }\n",
              "\n",
              "  .colab-df-quickchart:hover {\n",
              "    background-color: var(--hover-bg-color);\n",
              "    box-shadow: 0 1px 2px rgba(60, 64, 67, 0.3), 0 1px 3px 1px rgba(60, 64, 67, 0.15);\n",
              "    fill: var(--button-hover-fill-color);\n",
              "  }\n",
              "\n",
              "  .colab-df-quickchart-complete:disabled,\n",
              "  .colab-df-quickchart-complete:disabled:hover {\n",
              "    background-color: var(--disabled-bg-color);\n",
              "    fill: var(--disabled-fill-color);\n",
              "    box-shadow: none;\n",
              "  }\n",
              "\n",
              "  .colab-df-spinner {\n",
              "    border: 2px solid var(--fill-color);\n",
              "    border-color: transparent;\n",
              "    border-bottom-color: var(--fill-color);\n",
              "    animation:\n",
              "      spin 1s steps(1) infinite;\n",
              "  }\n",
              "\n",
              "  @keyframes spin {\n",
              "    0% {\n",
              "      border-color: transparent;\n",
              "      border-bottom-color: var(--fill-color);\n",
              "      border-left-color: var(--fill-color);\n",
              "    }\n",
              "    20% {\n",
              "      border-color: transparent;\n",
              "      border-left-color: var(--fill-color);\n",
              "      border-top-color: var(--fill-color);\n",
              "    }\n",
              "    30% {\n",
              "      border-color: transparent;\n",
              "      border-left-color: var(--fill-color);\n",
              "      border-top-color: var(--fill-color);\n",
              "      border-right-color: var(--fill-color);\n",
              "    }\n",
              "    40% {\n",
              "      border-color: transparent;\n",
              "      border-right-color: var(--fill-color);\n",
              "      border-top-color: var(--fill-color);\n",
              "    }\n",
              "    60% {\n",
              "      border-color: transparent;\n",
              "      border-right-color: var(--fill-color);\n",
              "    }\n",
              "    80% {\n",
              "      border-color: transparent;\n",
              "      border-right-color: var(--fill-color);\n",
              "      border-bottom-color: var(--fill-color);\n",
              "    }\n",
              "    90% {\n",
              "      border-color: transparent;\n",
              "      border-bottom-color: var(--fill-color);\n",
              "    }\n",
              "  }\n",
              "</style>\n",
              "\n",
              "      <script>\n",
              "        async function quickchart(key) {\n",
              "          const quickchartButtonEl =\n",
              "            document.querySelector('#' + key + ' button');\n",
              "          quickchartButtonEl.disabled = true;  // To prevent multiple clicks.\n",
              "          quickchartButtonEl.classList.add('colab-df-spinner');\n",
              "          try {\n",
              "            const charts = await google.colab.kernel.invokeFunction(\n",
              "                'suggestCharts', [key], {});\n",
              "          } catch (error) {\n",
              "            console.error('Error during call to suggestCharts:', error);\n",
              "          }\n",
              "          quickchartButtonEl.classList.remove('colab-df-spinner');\n",
              "          quickchartButtonEl.classList.add('colab-df-quickchart-complete');\n",
              "        }\n",
              "        (() => {\n",
              "          let quickchartButtonEl =\n",
              "            document.querySelector('#df-e5dce203-b998-4749-845f-9d7ca299c0d7 button');\n",
              "          quickchartButtonEl.style.display =\n",
              "            google.colab.kernel.accessAllowed ? 'block' : 'none';\n",
              "        })();\n",
              "      </script>\n",
              "    </div>\n",
              "\n",
              "    </div>\n",
              "  </div>\n"
            ],
            "application/vnd.google.colaboratory.intrinsic+json": {
              "type": "dataframe",
              "variable_name": "df",
              "summary": "{\n  \"name\": \"df\",\n  \"rows\": 150,\n  \"fields\": [\n    {\n      \"column\": \"sepal_length\",\n      \"properties\": {\n        \"dtype\": \"number\",\n        \"std\": 0.8280661279778629,\n        \"min\": 4.3,\n        \"max\": 7.9,\n        \"num_unique_values\": 35,\n        \"samples\": [\n          6.2,\n          4.5,\n          5.6\n        ],\n        \"semantic_type\": \"\",\n        \"description\": \"\"\n      }\n    },\n    {\n      \"column\": \"sepal_width\",\n      \"properties\": {\n        \"dtype\": \"number\",\n        \"std\": 0.435866284936698,\n        \"min\": 2.0,\n        \"max\": 4.4,\n        \"num_unique_values\": 23,\n        \"samples\": [\n          2.3,\n          4.0,\n          3.5\n        ],\n        \"semantic_type\": \"\",\n        \"description\": \"\"\n      }\n    },\n    {\n      \"column\": \"petal_length\",\n      \"properties\": {\n        \"dtype\": \"number\",\n        \"std\": 1.7652982332594667,\n        \"min\": 1.0,\n        \"max\": 6.9,\n        \"num_unique_values\": 43,\n        \"samples\": [\n          6.7,\n          3.8,\n          3.7\n        ],\n        \"semantic_type\": \"\",\n        \"description\": \"\"\n      }\n    },\n    {\n      \"column\": \"petal_width\",\n      \"properties\": {\n        \"dtype\": \"number\",\n        \"std\": 0.7622376689603465,\n        \"min\": 0.1,\n        \"max\": 2.5,\n        \"num_unique_values\": 22,\n        \"samples\": [\n          0.2,\n          1.2,\n          1.3\n        ],\n        \"semantic_type\": \"\",\n        \"description\": \"\"\n      }\n    },\n    {\n      \"column\": \"species\",\n      \"properties\": {\n        \"dtype\": \"category\",\n        \"num_unique_values\": 3,\n        \"samples\": [\n          \"setosa\",\n          \"versicolor\",\n          \"virginica\"\n        ],\n        \"semantic_type\": \"\",\n        \"description\": \"\"\n      }\n    }\n  ]\n}"
            }
          },
          "metadata": {},
          "execution_count": 62
        }
      ]
    },
    {
      "cell_type": "markdown",
      "source": [
        "# 2. 데이터 훑어보기 (Data Exploration)  \n",
        "\n",
        "데이터를 분석하기 전, **데이터의 생김새를 파악**하는 것은 매우 중요합니다.  \n",
        "👉 마치 요리를 시작하기 전, **재료 상태를 확인하는 과정**과 같습니다.  \n",
        "\n",
        "🔹 **주요 탐색 함수**  \n",
        "- `df.info()` : 전체적인 요약 정보 (행 개수, non-null 수, 데이터 타입 등)  \n",
        "- `df.shape` : 데이터프레임의 **형태(행, 열)** 확인  \n",
        "- `df.dtypes` : 각 컬럼의 **데이터 타입** 확인  \n",
        "- `df.columns` : **컬럼 이름** 목록 확인  \n",
        "- `df.head()` / `df.tail()` : 데이터 **앞/뒤 일부 미리보기**  \n",
        "- `df['컬럼명'].unique()` : 특정 컬럼의 **고윳값(unique values)** 확인 (범주형 데이터 확인 시 유용)  "
      ],
      "metadata": {
        "id": "FtOGvdYJliZK"
      }
    },
    {
      "cell_type": "code",
      "source": [
        "# df.info(): 데이터프레임의 전반적인 정보를 요약합니다.\n",
        "# 각 컬럼의 이름, non-null 데이터 개수, 데이터 타입을 한눈에 파악할 수 있습니다.\n",
        "print(\"--- df.info() ---\\n\")\n",
        "df.info()"
      ],
      "metadata": {
        "id": "C1wNHpsYltAF",
        "colab": {
          "base_uri": "https://localhost:8080/"
        },
        "outputId": "30344331-7bf1-40af-8276-1ccf8fb19cc5"
      },
      "execution_count": 63,
      "outputs": [
        {
          "output_type": "stream",
          "name": "stdout",
          "text": [
            "--- df.info() ---\n",
            "\n",
            "<class 'pandas.core.frame.DataFrame'>\n",
            "RangeIndex: 150 entries, 0 to 149\n",
            "Data columns (total 5 columns):\n",
            " #   Column        Non-Null Count  Dtype  \n",
            "---  ------        --------------  -----  \n",
            " 0   sepal_length  150 non-null    float64\n",
            " 1   sepal_width   150 non-null    float64\n",
            " 2   petal_length  150 non-null    float64\n",
            " 3   petal_width   150 non-null    float64\n",
            " 4   species       150 non-null    object \n",
            "dtypes: float64(4), object(1)\n",
            "memory usage: 6.0+ KB\n"
          ]
        }
      ]
    },
    {
      "cell_type": "code",
      "source": [
        "# df.shape: 데이터프레임의 (행, 열) 개수를 튜플로 반환합니다.\n",
        "print(\"--- df.shape ---\")\n",
        "print(f\"데이터 형태: {df.shape}\")\n",
        "print(f\"총 행의 개수: {df.shape[0]}\")\n",
        "print(f\"총 열(컬럼)의 개수: {df.shape[1]}\")"
      ],
      "metadata": {
        "id": "gQqqGJthDNfd",
        "colab": {
          "base_uri": "https://localhost:8080/"
        },
        "outputId": "245e67fa-6c7b-4a8a-ade8-8f0a19c8378d"
      },
      "execution_count": 64,
      "outputs": [
        {
          "output_type": "stream",
          "name": "stdout",
          "text": [
            "--- df.shape ---\n",
            "데이터 형태: (150, 5)\n",
            "총 행의 개수: 150\n",
            "총 열(컬럼)의 개수: 5\n"
          ]
        }
      ]
    },
    {
      "cell_type": "code",
      "source": [
        "# df.dtypes: 각 컬럼의 데이터 타입을 확인합니다.\n",
        "# object는 보통 문자열을 의미합니다.\n",
        "print(\"--- df.dtypes (변경 전) ---\")\n",
        "print(df.dtypes)"
      ],
      "metadata": {
        "id": "BGnuvbUQDNo7",
        "colab": {
          "base_uri": "https://localhost:8080/"
        },
        "outputId": "367052d0-97e1-436c-d433-820ea15cb914"
      },
      "execution_count": 65,
      "outputs": [
        {
          "output_type": "stream",
          "name": "stdout",
          "text": [
            "--- df.dtypes (변경 전) ---\n",
            "sepal_length    float64\n",
            "sepal_width     float64\n",
            "petal_length    float64\n",
            "petal_width     float64\n",
            "species          object\n",
            "dtype: object\n"
          ]
        }
      ]
    },
    {
      "cell_type": "code",
      "source": [
        "# 'species' 컬럼은 종류를 나타내는 범주형 데이터이므로, 'category' 타입으로 변경해주는 것이\n",
        "# 메모리 효율 및 분석에 용이 -> .astype() 함수를 사용.\n",
        "df['species'] = df['species'].astype('category')\n",
        "print(\"--- df.dtypes (변경 후) --- \\n\")\n",
        "print(df.dtypes)"
      ],
      "metadata": {
        "id": "EWhhfaGiDNwC",
        "colab": {
          "base_uri": "https://localhost:8080/"
        },
        "outputId": "46870bc1-1147-4442-e6f0-98963ca6b629"
      },
      "execution_count": 66,
      "outputs": [
        {
          "output_type": "stream",
          "name": "stdout",
          "text": [
            "--- df.dtypes (변경 후) --- \n",
            "\n",
            "sepal_length     float64\n",
            "sepal_width      float64\n",
            "petal_length     float64\n",
            "petal_width      float64\n",
            "species         category\n",
            "dtype: object\n"
          ]
        }
      ]
    },
    {
      "cell_type": "code",
      "source": [
        "# df.columns: 데이터프레임의 모든 컬럼 이름을 확인합니다.\n",
        "print(\"--- df.columns ---\")\n",
        "print(df.columns)"
      ],
      "metadata": {
        "id": "tJnkEb0ODN2G",
        "colab": {
          "base_uri": "https://localhost:8080/"
        },
        "outputId": "63f84d5a-40b4-4af5-d453-a77905048282"
      },
      "execution_count": 67,
      "outputs": [
        {
          "output_type": "stream",
          "name": "stdout",
          "text": [
            "--- df.columns ---\n",
            "Index(['sepal_length', 'sepal_width', 'petal_length', 'petal_width',\n",
            "       'species'],\n",
            "      dtype='object')\n"
          ]
        }
      ]
    },
    {
      "cell_type": "code",
      "source": [
        "# df.head(n): 데이터의 첫 n개 행을 보여줍니다. (기본값 n=5)\n",
        "print(\"--- df.head() ---\")\n",
        "print(df.head())"
      ],
      "metadata": {
        "id": "EBfh3J2LDN9F",
        "colab": {
          "base_uri": "https://localhost:8080/"
        },
        "outputId": "76706501-4333-4023-aacf-5e654336825b"
      },
      "execution_count": 68,
      "outputs": [
        {
          "output_type": "stream",
          "name": "stdout",
          "text": [
            "--- df.head() ---\n",
            "   sepal_length  sepal_width  petal_length  petal_width species\n",
            "0           5.1          3.5           1.4          0.2  setosa\n",
            "1           4.9          3.0           1.4          0.2  setosa\n",
            "2           4.7          3.2           1.3          0.2  setosa\n",
            "3           4.6          3.1           1.5          0.2  setosa\n",
            "4           5.0          3.6           1.4          0.2  setosa\n"
          ]
        }
      ]
    },
    {
      "cell_type": "code",
      "source": [
        "# df.tail(n): 데이터의 마지막 n개 행을 보여줍니다. (기본값 n=5)\n",
        "print(\"--- df.tail() ---\")\n",
        "print(df.tail())"
      ],
      "metadata": {
        "id": "xgV-giI-DODG",
        "colab": {
          "base_uri": "https://localhost:8080/"
        },
        "outputId": "717278be-3035-46eb-9e2f-4b48d1d3534d"
      },
      "execution_count": 69,
      "outputs": [
        {
          "output_type": "stream",
          "name": "stdout",
          "text": [
            "--- df.tail() ---\n",
            "     sepal_length  sepal_width  petal_length  petal_width    species\n",
            "145           6.7          3.0           5.2          2.3  virginica\n",
            "146           6.3          2.5           5.0          1.9  virginica\n",
            "147           6.5          3.0           5.2          2.0  virginica\n",
            "148           6.2          3.4           5.4          2.3  virginica\n",
            "149           5.9          3.0           5.1          1.8  virginica\n"
          ]
        }
      ]
    },
    {
      "cell_type": "code",
      "source": [
        "# 'species' 컬럼에 어떤 종류의 붓꽃이 있는지 고윳값을 확인합니다.\n",
        "print(\"--- df['species'].unique() ---\\n\")\n",
        "print(df['species'].unique())"
      ],
      "metadata": {
        "id": "fsRwiTYBDOKF",
        "colab": {
          "base_uri": "https://localhost:8080/"
        },
        "outputId": "4fc3455a-d64e-4a36-aadd-dc6806ea0919"
      },
      "execution_count": 70,
      "outputs": [
        {
          "output_type": "stream",
          "name": "stdout",
          "text": [
            "--- df['species'].unique() ---\n",
            "\n",
            "['setosa', 'versicolor', 'virginica']\n",
            "Categories (3, object): ['setosa', 'versicolor', 'virginica']\n"
          ]
        }
      ]
    },
    {
      "cell_type": "markdown",
      "source": [
        "# 3. 데이터 추출하기 (Indexing & Slicing)  \n",
        "\n",
        "데이터프레임에서 원하는 **특정 부분만 선택**하거나, **구간을 잘라내는 기술**입니다.  \n",
        "👉 Pandas에서는 크게 두 가지 방법을 사용합니다.  \n",
        "\n",
        "🔹 **`iloc[]` (Integer-location based)**  \n",
        "- **숫자 인덱스** 기반 데이터 추출  \n",
        "- `df.iloc[행_숫자, 열_숫자]` 형태 사용 (0부터 시작)  \n",
        "- 예시: 엑셀에서 **\"5행 3열\"**을 숫자로 지정하는 방식  \n",
        "\n",
        "🔹 **`loc[]` (Label-based)**  \n",
        "- **이름(Label)** 기반 데이터 추출  \n",
        "- `df.loc[행_이름, 열_이름]` 형태 사용  \n",
        "- 예시: 엑셀에서 **\"Petal_Width 열의 3번 행\"**처럼 이름으로 접근하는 방식  "
      ],
      "metadata": {
        "id": "mH6GJn2jl2mA"
      }
    },
    {
      "cell_type": "code",
      "source": [
        "# iloc: [행 인덱스 숫자, 열 인덱스 숫자]\n",
        "# 2번 행, 3번 열에 있는 값을 추출 (0부터 시작)\n",
        "value_iloc = df.iloc[2, 3]\n",
        "print(f\"iloc[2, 3] 값: {value_iloc}\")"
      ],
      "metadata": {
        "id": "eVYMmRpcl5-k",
        "colab": {
          "base_uri": "https://localhost:8080/"
        },
        "outputId": "7fff26a0-e2da-4ca9-bc16-b58d190c47d5"
      },
      "execution_count": 71,
      "outputs": [
        {
          "output_type": "stream",
          "name": "stdout",
          "text": [
            "iloc[2, 3] 값: 0.2\n"
          ]
        }
      ]
    },
    {
      "cell_type": "code",
      "source": [
        "# loc: [행 인덱스 이름, 열 이름]\n",
        "# 3번 행의 'petal_width' 컬럼 값을 추출\n",
        "value_loc = df.loc[3, 'petal_width']\n",
        "print(f\"loc[3, 'petal_width'] 값: {value_loc}\")"
      ],
      "metadata": {
        "id": "6BYZln6UDigI",
        "colab": {
          "base_uri": "https://localhost:8080/"
        },
        "outputId": "280c0075-d4d8-4773-bd39-ee2d43d73fd6"
      },
      "execution_count": 72,
      "outputs": [
        {
          "output_type": "stream",
          "name": "stdout",
          "text": [
            "loc[3, 'petal_width'] 값: 0.2\n"
          ]
        }
      ]
    },
    {
      "cell_type": "code",
      "source": [
        "# 여러 행과 열을 동시에 추출하기\n",
        "# 0, 2, 4번 행의 'petal_length', 'petal_width' 컬럼을 추출\n",
        "subset1 = df.loc[[0, 2, 4], ['petal_length', 'petal_width']]\n",
        "print(\"--- 여러 행/열 추출 ---\\n\")\n",
        "print(subset1)"
      ],
      "metadata": {
        "id": "NePE-oQ-DinY",
        "colab": {
          "base_uri": "https://localhost:8080/"
        },
        "outputId": "bf52702f-13d0-4f0e-c096-f74d27e9accf"
      },
      "execution_count": 73,
      "outputs": [
        {
          "output_type": "stream",
          "name": "stdout",
          "text": [
            "--- 여러 행/열 추출 ---\n",
            "\n",
            "   petal_length  petal_width\n",
            "0           1.4          0.2\n",
            "2           1.3          0.2\n",
            "4           1.4          0.2\n"
          ]
        }
      ]
    },
    {
      "cell_type": "code",
      "source": [
        "# 슬라이싱으로 특정 범위 추출하기\n",
        "# 5번부터 8번 행의 'petal_length' 컬럼 값을 추출 (loc는 끝번호 포함!)\n",
        "subset2 = df.loc[5:8, 'petal_length']\n",
        "print(\"--- loc 슬라이싱 ---\")\n",
        "print(subset2)"
      ],
      "metadata": {
        "id": "9Ppmx3VUDitl",
        "colab": {
          "base_uri": "https://localhost:8080/"
        },
        "outputId": "f87f1053-9849-4283-f413-50ba4f46dbbc"
      },
      "execution_count": 74,
      "outputs": [
        {
          "output_type": "stream",
          "name": "stdout",
          "text": [
            "--- loc 슬라이싱 ---\n",
            "5    1.7\n",
            "6    1.4\n",
            "7    1.5\n",
            "8    1.4\n",
            "Name: petal_length, dtype: float64\n"
          ]
        }
      ]
    },
    {
      "cell_type": "code",
      "source": [
        "# 0번부터 4번 행, 0번부터 3번 열을 추출 (iloc는 끝번호 미포함!)\n",
        "subset3 = df.iloc[:5, :4]\n",
        "print(\"--- iloc 슬라이싱 ---\")\n",
        "print(subset3)"
      ],
      "metadata": {
        "id": "F1fQkRL_Diz5",
        "colab": {
          "base_uri": "https://localhost:8080/"
        },
        "outputId": "dd1c0152-ae35-4898-ec0a-f3c29197fb63"
      },
      "execution_count": 75,
      "outputs": [
        {
          "output_type": "stream",
          "name": "stdout",
          "text": [
            "--- iloc 슬라이싱 ---\n",
            "   sepal_length  sepal_width  petal_length  petal_width\n",
            "0           5.1          3.5           1.4          0.2\n",
            "1           4.9          3.0           1.4          0.2\n",
            "2           4.7          3.2           1.3          0.2\n",
            "3           4.6          3.1           1.5          0.2\n",
            "4           5.0          3.6           1.4          0.2\n"
          ]
        }
      ]
    },
    {
      "cell_type": "code",
      "source": [
        "# 특정 컬럼 전체를 선택하는 여러 방법\n",
        "# 세 가지 방법 모두 동일한 결과를 반환합니다.\n",
        "col1 = df.loc[:, 'petal_length'] # loc 사용\n",
        "col2 = df['petal_length']       # 딕셔너리 형태 (가장 일반적)\n",
        "col3 = df.petal_length          # 객체 속성 형태 (컬럼명에 특수문자나 띄어쓰기 없어야 함)"
      ],
      "metadata": {
        "id": "RFYhIDtKDi6I"
      },
      "execution_count": 76,
      "outputs": []
    },
    {
      "cell_type": "code",
      "source": [
        "# 특정 행 전체를 선택하는 방법\n",
        "# 0번부터 4번 행까지의 모든 컬럼을 선택\n",
        "row1 = df.iloc[:5, :]\n",
        "row2 = df.iloc[:5] # 모든 컬럼을 선택할 경우 컬럼 부분 생략 가능\n",
        "print(\"--- 행 전체 슬라이싱 ---\")\n",
        "print(row2)"
      ],
      "metadata": {
        "id": "jZfeKTTeDjAf",
        "colab": {
          "base_uri": "https://localhost:8080/"
        },
        "outputId": "e6464654-2d70-431f-dc6e-32d4d8fc8cb3"
      },
      "execution_count": 77,
      "outputs": [
        {
          "output_type": "stream",
          "name": "stdout",
          "text": [
            "--- 행 전체 슬라이싱 ---\n",
            "   sepal_length  sepal_width  petal_length  petal_width species\n",
            "0           5.1          3.5           1.4          0.2  setosa\n",
            "1           4.9          3.0           1.4          0.2  setosa\n",
            "2           4.7          3.2           1.3          0.2  setosa\n",
            "3           4.6          3.1           1.5          0.2  setosa\n",
            "4           5.0          3.6           1.4          0.2  setosa\n"
          ]
        }
      ]
    },
    {
      "cell_type": "markdown",
      "source": [
        "# 4. 조건에 맞는 데이터만 골라내기 (Conditional Selection)  \n",
        "\n",
        "데이터 분석의 꽃 🌸 → **특정 조건을 만족하는 데이터만 필터링**하는 기능  \n",
        "\n",
        "🔹 **Boolean Indexing**  \n",
        "- 조건식 예: `df['컬럼명'] >= 6.5`  \n",
        "- 결과: 각 행마다 `True` / `False` 값을 가지는 **Series** 반환  \n",
        "- 이 Series를 `df.loc[]` 안에 넣으면 → `True`인 행만 필터링됨  \n",
        "- 👉 이것이 **Boolean Indexing의 원리**  \n",
        "\n",
        "🔹 **다중 조건 결합**  \n",
        "- `&` (AND) : 두 조건이 **모두 True**여야 함  \n",
        "- `|` (OR) : 두 조건 중 **하나라도 True**면 됨  \n",
        "- ⚠️ **주의:** 조건식은 반드시 소괄호 `()`로 묶어야 함  \n",
        "  - ✅ `(df.col1 > 10) & (df.col2 < 5)`  \n",
        "  - ❌ `df.col1 > 10 & df.col2 < 5` → 에러 발생  "
      ],
      "metadata": {
        "id": "mN0QfqG0mAKI"
      }
    },
    {
      "cell_type": "code",
      "source": [
        "# 꽃잎의 길이(petal_length)가 6.5 이상인 행들의 모든 컬럼을 보이시오\n",
        "# df.petal_length >= 6.5 가 boolean Series를 생성하고, loc가 True인 행만 선택\n",
        "condition1 = df.loc[df.petal_length >= 6.5, :]\n",
        "# 모든 컬럼을 선택할 경우 컬럼 인덱스는 생략 가능\n",
        "condition2 = df.loc[df.petal_length >= 6.5]\n",
        "print(\"--- 꽃잎 길이 >= 6.5 ---\")\n",
        "print(condition2.head())"
      ],
      "metadata": {
        "id": "159Rjz83mBIP",
        "colab": {
          "base_uri": "https://localhost:8080/"
        },
        "outputId": "e69f26d2-9fce-426b-9577-f878179f7c2d"
      },
      "execution_count": 78,
      "outputs": [
        {
          "output_type": "stream",
          "name": "stdout",
          "text": [
            "--- 꽃잎 길이 >= 6.5 ---\n",
            "     sepal_length  sepal_width  petal_length  petal_width    species\n",
            "105           7.6          3.0           6.6          2.1  virginica\n",
            "117           7.7          3.8           6.7          2.2  virginica\n",
            "118           7.7          2.6           6.9          2.3  virginica\n",
            "122           7.7          2.8           6.7          2.0  virginica\n"
          ]
        }
      ]
    },
    {
      "cell_type": "code",
      "source": [
        "# 꽃잎의 길이가 6.5 이상인 행들의 인덱스 번호를 보이시오\n",
        "indices = df.loc[df.petal_length >= 6.5].index\n",
        "print(\"--- 해당 조건의 인덱스 ---\")\n",
        "print(indices)"
      ],
      "metadata": {
        "id": "sRDc_cJMDwlY",
        "colab": {
          "base_uri": "https://localhost:8080/"
        },
        "outputId": "34fb0e2e-d2ee-4721-ce60-19ed9d839908"
      },
      "execution_count": 79,
      "outputs": [
        {
          "output_type": "stream",
          "name": "stdout",
          "text": [
            "--- 해당 조건의 인덱스 ---\n",
            "Index([105, 117, 118, 122], dtype='int64')\n"
          ]
        }
      ]
    },
    {
      "cell_type": "code",
      "source": [
        "# 꽃잎의 길이가 3.5 ~ 3.8 사이인 행들의 모든 컬럼을 보이시오\n",
        "# 각 조건문을 반드시 소괄호 ()로 묶어야 합니다.\n",
        "between_condition = df.loc[(df.petal_length >= 3.5) & (df.petal_length <= 3.8)]\n",
        "print(\"--- 꽃잎 길이 3.5 ~ 3.8 ---\")\n",
        "print(between_condition)"
      ],
      "metadata": {
        "id": "mziWTIHsDws2",
        "colab": {
          "base_uri": "https://localhost:8080/"
        },
        "outputId": "eacaad60-f9b9-4de4-cd0f-d216eb070eaa"
      },
      "execution_count": 80,
      "outputs": [
        {
          "output_type": "stream",
          "name": "stdout",
          "text": [
            "--- 꽃잎 길이 3.5 ~ 3.8 ---\n",
            "    sepal_length  sepal_width  petal_length  petal_width     species\n",
            "60           5.0          2.0           3.5          1.0  versicolor\n",
            "64           5.6          2.9           3.6          1.3  versicolor\n",
            "79           5.7          2.6           3.5          1.0  versicolor\n",
            "80           5.5          2.4           3.8          1.1  versicolor\n",
            "81           5.5          2.4           3.7          1.0  versicolor\n"
          ]
        }
      ]
    },
    {
      "cell_type": "code",
      "source": [
        "# 꽃잎의 길이가 1.3 미만이거나 6.5를 초과하는 행들의 'petal_length'와 'petal_width'를 보이시오\n",
        "or_condition = df.loc[(df.petal_length < 1.3) | (df.petal_length > 6.5), ['petal_length', 'petal_width']]\n",
        "print(\"--- 꽃잎 길이 < 1.3 또는 > 6.5 ---\")\n",
        "print(or_condition)"
      ],
      "metadata": {
        "id": "LuNcfiouDwzZ",
        "colab": {
          "base_uri": "https://localhost:8080/"
        },
        "outputId": "f300de10-b8a1-47c2-a134-5e54bc18da9c"
      },
      "execution_count": 81,
      "outputs": [
        {
          "output_type": "stream",
          "name": "stdout",
          "text": [
            "--- 꽃잎 길이 < 1.3 또는 > 6.5 ---\n",
            "     petal_length  petal_width\n",
            "13            1.1          0.1\n",
            "14            1.2          0.2\n",
            "22            1.0          0.2\n",
            "35            1.2          0.2\n",
            "105           6.6          2.1\n",
            "117           6.7          2.2\n",
            "118           6.9          2.3\n",
            "122           6.7          2.0\n"
          ]
        }
      ]
    },
    {
      "cell_type": "code",
      "source": [
        "# where()를 이용한 조건 검색: 조건에 맞지 않는 값은 NaN(결측치)으로 표시\n",
        "# dropna()를 붙여주면 결측치 행을 제거하므로 loc와 동일한 결과를 얻을 수 있음\n",
        "where_condition = df.where(df.petal_length >= 6.5).dropna()\n",
        "print(\"--- where() 사용 ---\")\n",
        "print(where_condition.head())"
      ],
      "metadata": {
        "id": "4i9tA9aNDw6f",
        "colab": {
          "base_uri": "https://localhost:8080/"
        },
        "outputId": "1f79117c-08ed-41b7-b24c-c5205550bfbe"
      },
      "execution_count": 82,
      "outputs": [
        {
          "output_type": "stream",
          "name": "stdout",
          "text": [
            "--- where() 사용 ---\n",
            "     sepal_length  sepal_width  petal_length  petal_width    species\n",
            "105           7.6          3.0           6.6          2.1  virginica\n",
            "117           7.7          3.8           6.7          2.2  virginica\n",
            "118           7.7          2.6           6.9          2.3  virginica\n",
            "122           7.7          2.8           6.7          2.0  virginica\n"
          ]
        }
      ]
    },
    {
      "cell_type": "markdown",
      "source": [
        "# 5. 데이터 연산 및 변형 (Operations & Transformation)  \n",
        "\n",
        "🔹 **Vectorized Operations (벡터화 연산)**  \n",
        "- Pandas의 가장 큰 장점 중 하나  \n",
        "- 반복문 없이 **컬럼 전체에 대해 산술 연산** 수행 가능  \n",
        "- 예시: `df['컬럼명'] + 10` → 해당 컬럼의 모든 값에 **10이 더해진 결과** 반환  \n",
        "- ✅ 빠르고 효율적인 연산 방식  \n",
        "\n",
        "🔹 **`apply()` 메소드**  \n",
        "- 단순 산술 연산을 넘어 **복잡한 로직** 적용 가능  \n",
        "- **사용자 정의 함수**나 조건부 로직을 컬럼 전체에 적용  \n",
        "- `lambda` 함수와 함께 사용하면 → **한 줄로 간결하게 구현** 가능  "
      ],
      "metadata": {
        "id": "HIuv0AqimJHr"
      }
    },
    {
      "cell_type": "code",
      "source": [
        "# 'species' 컬럼을 제외한 모든 숫자형 컬럼 선택하기\n",
        "# 방법 1: df.columns 비교\n",
        "numeric_df = df.loc[:, df.columns != 'species']\n",
        "# 방법 2: isin() 함수 사용 (여러 개 제외 시 유용)\n",
        "numeric_df2 = df.loc[:, ~df.columns.isin(['species'])]"
      ],
      "metadata": {
        "id": "lw5cNyVGmIGS"
      },
      "execution_count": 83,
      "outputs": []
    },
    {
      "cell_type": "code",
      "source": [
        "# 모든 숫자 값에 10을 더하기 (벡터화 연산)\n",
        "added_df = numeric_df + 10\n",
        "print(\"--- 모든 값에 10 더하기 ---\")\n",
        "print(added_df.head())"
      ],
      "metadata": {
        "id": "YRZfbKd3D7SD",
        "colab": {
          "base_uri": "https://localhost:8080/"
        },
        "outputId": "2d8625b7-85d9-4962-fd75-50427b80bd00"
      },
      "execution_count": 84,
      "outputs": [
        {
          "output_type": "stream",
          "name": "stdout",
          "text": [
            "--- 모든 값에 10 더하기 ---\n",
            "   sepal_length  sepal_width  petal_length  petal_width\n",
            "0          15.1         13.5          11.4         10.2\n",
            "1          14.9         13.0          11.4         10.2\n",
            "2          14.7         13.2          11.3         10.2\n",
            "3          14.6         13.1          11.5         10.2\n",
            "4          15.0         13.6          11.4         10.2\n"
          ]
        }
      ]
    },
    {
      "cell_type": "code",
      "source": [
        "# 두 컬럼의 같은 행 값들끼리 연산\n",
        "sepal_petal_sum = df['sepal_length'] + df['petal_length']\n",
        "print(\"--- 두 컬럼의 합 ---\")\n",
        "print(sepal_petal_sum.head())"
      ],
      "metadata": {
        "id": "I6MTonHyD7Yx",
        "colab": {
          "base_uri": "https://localhost:8080/"
        },
        "outputId": "a91c6ff8-9d54-4866-ec77-24fe320b6613"
      },
      "execution_count": 85,
      "outputs": [
        {
          "output_type": "stream",
          "name": "stdout",
          "text": [
            "--- 두 컬럼의 합 ---\n",
            "0    6.5\n",
            "1    6.3\n",
            "2    6.0\n",
            "3    6.1\n",
            "4    6.4\n",
            "dtype: float64\n"
          ]
        }
      ]
    },
    {
      "cell_type": "code",
      "source": [
        "# apply와 lambda를 이용한 조건부 연산\n",
        "# 꽃잎의 길이가 5 이상인 경우에는 -1을, 5 미만인 경우에는 1을 곱하는 값을 생성\n",
        "# tmp 시리즈는 각 행의 petal_length가 5 이상이면 -1, 아니면 1의 값을 가짐\n",
        "tmp = df['petal_length'].apply(lambda x: -1 if x >= 5 else 1)"
      ],
      "metadata": {
        "id": "PDr7UclsD7fM"
      },
      "execution_count": 86,
      "outputs": []
    },
    {
      "cell_type": "code",
      "source": [
        "# 원본 petal_length에 tmp를 곱하여 조건부로 부호를 변경\n",
        "conditional_mult = df['petal_length'] * tmp\n",
        "print(\"--- 조건부 연산 결과 ---\")\n",
        "print(conditional_mult.head())"
      ],
      "metadata": {
        "id": "0hziyEMTD7mv",
        "colab": {
          "base_uri": "https://localhost:8080/"
        },
        "outputId": "632d48c4-1c97-4c21-fa29-cf93589335b6"
      },
      "execution_count": 87,
      "outputs": [
        {
          "output_type": "stream",
          "name": "stdout",
          "text": [
            "--- 조건부 연산 결과 ---\n",
            "0    1.4\n",
            "1    1.4\n",
            "2    1.3\n",
            "3    1.5\n",
            "4    1.4\n",
            "Name: petal_length, dtype: float64\n"
          ]
        }
      ]
    },
    {
      "cell_type": "markdown",
      "source": [
        "# 6. 데이터 요약하기 (Descriptive Statistics)  \n",
        "\n",
        "데이터의 특징을 파악하기 위해 **기본적인 통계량**을 계산  \n",
        "\n",
        "🔹 **주요 통계 함수**  \n",
        "- `sum()` : 합계  \n",
        "- `mean()` : 평균  \n",
        "- `median()` : 중앙값  \n",
        "- `max()` / `min()` : 최댓값 / 최솟값  \n",
        "- `std()` / `var()` : 표준편차 / 분산  \n",
        "- `describe()` : **매우 중요!**  \n",
        "  - 숫자형 컬럼들의 주요 통계량을 한 번에 요약  \n",
        "  - (개수, 평균, 표준편차, 최소/최대, 사분위수)"
      ],
      "metadata": {
        "id": "1GM_pEcumO7K"
      }
    },
    {
      "cell_type": "code",
      "source": [
        "# 숫자형 컬럼만 다시 추출\n",
        "df2 = df.loc[:, df.columns != 'species']\n",
        "\n",
        "print(\"--- 컬럼별 합계 (sum) ---\")\n",
        "print(df2.sum())\n",
        "print(\"\\n--- 컬럼별 평균 (mean) ---\")\n",
        "print(df2.mean())"
      ],
      "metadata": {
        "id": "2yIMhpy_mTN2",
        "colab": {
          "base_uri": "https://localhost:8080/"
        },
        "outputId": "941f730c-c02c-4fc7-caad-c4e77a28fd2b"
      },
      "execution_count": 88,
      "outputs": [
        {
          "output_type": "stream",
          "name": "stdout",
          "text": [
            "--- 컬럼별 합계 (sum) ---\n",
            "sepal_length    876.5\n",
            "sepal_width     458.6\n",
            "petal_length    563.7\n",
            "petal_width     179.9\n",
            "dtype: float64\n",
            "\n",
            "--- 컬럼별 평균 (mean) ---\n",
            "sepal_length    5.843333\n",
            "sepal_width     3.057333\n",
            "petal_length    3.758000\n",
            "petal_width     1.199333\n",
            "dtype: float64\n"
          ]
        }
      ]
    },
    {
      "cell_type": "code",
      "source": [
        "# describe(): 숫자형 컬럼들의 핵심 통계 정보를 한눈에 보여주는 가장 유용한 함수\n",
        "print(\"--- 기초 통계 정보 요약 (describe) ---\")\n",
        "print(df2.describe())"
      ],
      "metadata": {
        "id": "Cqu6zcvNEDbJ",
        "colab": {
          "base_uri": "https://localhost:8080/"
        },
        "outputId": "9d13d3af-f5b8-44ab-cf44-534a9e6a99e5"
      },
      "execution_count": 89,
      "outputs": [
        {
          "output_type": "stream",
          "name": "stdout",
          "text": [
            "--- 기초 통계 정보 요약 (describe) ---\n",
            "       sepal_length  sepal_width  petal_length  petal_width\n",
            "count    150.000000   150.000000    150.000000   150.000000\n",
            "mean       5.843333     3.057333      3.758000     1.199333\n",
            "std        0.828066     0.435866      1.765298     0.762238\n",
            "min        4.300000     2.000000      1.000000     0.100000\n",
            "25%        5.100000     2.800000      1.600000     0.300000\n",
            "50%        5.800000     3.000000      4.350000     1.300000\n",
            "75%        6.400000     3.300000      5.100000     1.800000\n",
            "max        7.900000     4.400000      6.900000     2.500000\n"
          ]
        }
      ]
    },
    {
      "cell_type": "markdown",
      "source": [
        "# 7. 데이터 수정, 추가, 삭제 (Modification, Addition, Deletion)  \n",
        "\n",
        "데이터프레임의 **구조나 값**을 직접 변경하는 방법  \n",
        "👉 원본 보존을 위해 `.copy()` 사용 습관 권장  \n",
        "\n",
        "🔹 **값 수정**  \n",
        "- `loc` 또는 `iloc`로 위치 지정 후 새로운 값 할당  \n",
        "- 예: `df.loc[행, 열] = 새로운값`  \n",
        "\n",
        "🔹 **행/열 추가**  \n",
        "- **열 추가** : `df['새컬럼명'] = 값`  \n",
        "- **행 추가** : `.loc[새인덱스]` 로 추가  \n",
        "  - 또는 `pd.concat` 으로 데이터프레임 합치기  \n",
        "\n",
        "🔹 **행/열 삭제**  \n",
        "- `.drop()` 메소드 사용  \n",
        "- `index=` 또는 `columns=` 인자 지정 후 삭제  "
      ],
      "metadata": {
        "id": "IMB9eff0meI-"
      }
    },
    {
      "cell_type": "code",
      "source": [
        "# 원본 데이터 보존을 위해 데이터프레임을 복사해서 사용합니다.\n",
        "df3 = df.copy()"
      ],
      "metadata": {
        "id": "jXWd5m3Ame7X"
      },
      "execution_count": 90,
      "outputs": []
    },
    {
      "cell_type": "code",
      "source": [
        "# 값 수정\n",
        "# 1번 행, 2번 열의 값을 5.5로 수정\n",
        "df3.iloc[1, 2] = 5.5\n",
        "# 1번 행의 'petal_length' 컬럼 값을 1.1로 수정\n",
        "df3.loc[1, 'petal_length'] = 1.1\n",
        "print(\"--- 값 수정 후 1번 행 ---\")\n",
        "print(df3.iloc[1])"
      ],
      "metadata": {
        "id": "kbaNTSD7EJaj",
        "colab": {
          "base_uri": "https://localhost:8080/"
        },
        "outputId": "cbe48f5a-1216-47ba-f056-2f5d432fab15"
      },
      "execution_count": 91,
      "outputs": [
        {
          "output_type": "stream",
          "name": "stdout",
          "text": [
            "--- 값 수정 후 1번 행 ---\n",
            "sepal_length       4.9\n",
            "sepal_width        3.0\n",
            "petal_length       1.1\n",
            "petal_width        0.2\n",
            "species         setosa\n",
            "Name: 1, dtype: object\n"
          ]
        }
      ]
    },
    {
      "cell_type": "code",
      "source": [
        "# 조건에 맞는 여러 값 동시에 수정\n",
        "# 꽃잎 길이가 6.5보다 큰 행들의 petal_length 값에 100을 곱함\n",
        "df3.loc[df.petal_length > 6.5, 'petal_length'] *= 100"
      ],
      "metadata": {
        "id": "_SU1NIVFEJfo"
      },
      "execution_count": 92,
      "outputs": []
    },
    {
      "cell_type": "code",
      "source": [
        "#--- 행 추가 ---\n",
        "# 맨 뒤에 새로운 행 추가\n",
        "new_idx = df3.shape[0] # 현재 행의 개수를 새 인덱스로 사용\n",
        "df3.loc[new_idx] = [1.1, 4.5, 3.4, 2.2, 'setosa']\n",
        "print(\"--- 맨 뒤에 행 추가 후 ---\")\n",
        "print(df3.tail())"
      ],
      "metadata": {
        "id": "MPaHvX9MEJkZ",
        "colab": {
          "base_uri": "https://localhost:8080/"
        },
        "outputId": "74a20b57-1187-42eb-83c3-22b512d3c4af"
      },
      "execution_count": 93,
      "outputs": [
        {
          "output_type": "stream",
          "name": "stdout",
          "text": [
            "--- 맨 뒤에 행 추가 후 ---\n",
            "     sepal_length  sepal_width  petal_length  petal_width    species\n",
            "146           6.3          2.5           5.0          1.9  virginica\n",
            "147           6.5          3.0           5.2          2.0  virginica\n",
            "148           6.2          3.4           5.4          2.3  virginica\n",
            "149           5.9          3.0           5.1          1.8  virginica\n",
            "150           1.1          4.5           3.4          2.2     setosa\n"
          ]
        }
      ]
    },
    {
      "cell_type": "code",
      "source": [
        "# 중간에 새로운 행 추가 (pd.concat 사용)\n",
        "new_row = pd.DataFrame([[1.1, 2.2, 3.3, 4.4, 'virginica']], columns=df3.columns)\n",
        "# 10번 행 앞에 새 행을 삽입\n",
        "df3 = pd.concat([df3.iloc[:10], new_row, df3.iloc[10:]], ignore_index=True)"
      ],
      "metadata": {
        "id": "dVBqEX70EJpZ"
      },
      "execution_count": 94,
      "outputs": []
    },
    {
      "cell_type": "code",
      "source": [
        "#--- 열 추가 ---\n",
        "# 맨 뒤에 새로운 열 추가\n",
        "df3['petal_area'] = df3['petal_length'] * df3['petal_width']\n",
        "print(\"--- 열 추가 후 ---\")\n",
        "print(df3.head())"
      ],
      "metadata": {
        "id": "RoIIYT8dEJuY",
        "colab": {
          "base_uri": "https://localhost:8080/"
        },
        "outputId": "b940ca34-ff66-4097-bb16-1ded581a17e7"
      },
      "execution_count": 95,
      "outputs": [
        {
          "output_type": "stream",
          "name": "stdout",
          "text": [
            "--- 열 추가 후 ---\n",
            "   sepal_length  sepal_width  petal_length  petal_width species  petal_area\n",
            "0           5.1          3.5           1.4          0.2  setosa        0.28\n",
            "1           4.9          3.0           1.1          0.2  setosa        0.22\n",
            "2           4.7          3.2           1.3          0.2  setosa        0.26\n",
            "3           4.6          3.1           1.5          0.2  setosa        0.30\n",
            "4           5.0          3.6           1.4          0.2  setosa        0.28\n"
          ]
        }
      ]
    },
    {
      "cell_type": "code",
      "source": [
        "# 중간에 새로운 열 추가 (insert 사용)\n",
        "# 2번 인덱스 위치에 'sepal_area'라는 이름의 새 컬럼을 추가\n",
        "df3.insert(loc=2, column='sepal_area', value=df3['sepal_length'] * df3['sepal_width'])\n",
        "print(\"--- 중간에 열 추가 후 ---\")\n",
        "print(df3.head())"
      ],
      "metadata": {
        "id": "9k-vT-HqEJzx",
        "colab": {
          "base_uri": "https://localhost:8080/"
        },
        "outputId": "5b4c29f6-c247-4dd7-f9dc-624c9b07bc10"
      },
      "execution_count": 96,
      "outputs": [
        {
          "output_type": "stream",
          "name": "stdout",
          "text": [
            "--- 중간에 열 추가 후 ---\n",
            "   sepal_length  sepal_width  sepal_area  petal_length  petal_width species  \\\n",
            "0           5.1          3.5       17.85           1.4          0.2  setosa   \n",
            "1           4.9          3.0       14.70           1.1          0.2  setosa   \n",
            "2           4.7          3.2       15.04           1.3          0.2  setosa   \n",
            "3           4.6          3.1       14.26           1.5          0.2  setosa   \n",
            "4           5.0          3.6       18.00           1.4          0.2  setosa   \n",
            "\n",
            "   petal_area  \n",
            "0        0.28  \n",
            "1        0.22  \n",
            "2        0.26  \n",
            "3        0.30  \n",
            "4        0.28  \n"
          ]
        }
      ]
    },
    {
      "cell_type": "code",
      "source": [
        "#--- 행/열 삭제 ---\n",
        "df5 = df.copy()\n",
        "# 행 삭제 (1번, 3번 인덱스)\n",
        "df5 = df5.drop(index=[1, 3])"
      ],
      "metadata": {
        "id": "oQWD3CZWEJ5i"
      },
      "execution_count": 97,
      "outputs": []
    },
    {
      "cell_type": "code",
      "source": [
        "# 인덱스를 삭제하면 중간이 비게 되므로, 인덱스를 재정렬해주는 것이 좋음\n",
        "df5 = df5.reset_index(drop=True) # drop=True는 기존 인덱스를 버리라는 의미"
      ],
      "metadata": {
        "id": "e3Q4Kcc7EJ-0"
      },
      "execution_count": 98,
      "outputs": []
    },
    {
      "cell_type": "code",
      "source": [
        "# 열 삭제 ('petal_length' 컬럼)\n",
        "df5 = df5.drop(columns='petal_length')\n",
        "print(\"--- 행/열 삭제 후 ---\")\n",
        "print(df5.head())"
      ],
      "metadata": {
        "id": "oPUluvG8EKGN",
        "colab": {
          "base_uri": "https://localhost:8080/"
        },
        "outputId": "b9fd50f3-5d5c-45c8-9827-e833f8b13a6b"
      },
      "execution_count": 99,
      "outputs": [
        {
          "output_type": "stream",
          "name": "stdout",
          "text": [
            "--- 행/열 삭제 후 ---\n",
            "   sepal_length  sepal_width  petal_width species\n",
            "0           5.1          3.5          0.2  setosa\n",
            "1           4.7          3.2          0.2  setosa\n",
            "2           5.0          3.6          0.2  setosa\n",
            "3           5.4          3.9          0.4  setosa\n",
            "4           4.6          3.4          0.3  setosa\n"
          ]
        }
      ]
    },
    {
      "cell_type": "markdown",
      "source": [
        "# 생각해 보기\n",
        "\n",
        "🔹 배운 내용을 바탕으로, 아래 문제들을 직접 코드로 수정/작성해 보세요!\n",
        "\n",
        "### 🌸 Iris 데이터 변수 설명\n",
        "\n",
        "| 변수명         | 의미                          | 데이터 유형   |\n",
        "|----------------|-------------------------------|---------------|\n",
        "| sepal_length   | 꽃받침의 길이 (cm)            | float (연속형) |\n",
        "| sepal_width    | 꽃받침의 너비 (cm)            | float (연속형) |\n",
        "| petal_length   | 꽃잎의 길이 (cm)              | float (연속형) |\n",
        "| petal_width    | 꽃잎의 너비 (cm)              | float (연속형) |\n",
        "| species        | 붓꽃의 품종 (setosa 등 3종류) | object (범주형) |\n",
        "\n",
        "---\n",
        "\n",
        "### 1. 특정 품종의 '왕' 붓꽃 찾기  \n",
        "- 기존: 꽃잎 길이(`petal_length`)가 6.5 이상인 데이터 필터링  \n",
        "- 질문: `'virginica' 품종`이면서 동시에 꽃잎 길이가 6.5 이상인 데이터만 찾으려면?  \n",
        "- 힌트: `&` 연산자로 조건을 결합해 보세요."
      ],
      "metadata": {
        "id": "iYIwbfWYCc0o"
      }
    },
    {
      "cell_type": "code",
      "source": [
        "# 1번 답안\n",
        "data1 = df[(df.petal_length>= 6.5) & (df.species == 'virginica')]\n",
        "data1"
      ],
      "metadata": {
        "id": "QLeTE0xZCk7h",
        "colab": {
          "base_uri": "https://localhost:8080/",
          "height": 175
        },
        "outputId": "68142764-4965-47b4-ca2c-4303afa5517a"
      },
      "execution_count": 108,
      "outputs": [
        {
          "output_type": "execute_result",
          "data": {
            "text/plain": [
              "     sepal_length  sepal_width  petal_length  petal_width    species\n",
              "105           7.6          3.0           6.6          2.1  virginica\n",
              "117           7.7          3.8           6.7          2.2  virginica\n",
              "118           7.7          2.6           6.9          2.3  virginica\n",
              "122           7.7          2.8           6.7          2.0  virginica"
            ],
            "text/html": [
              "\n",
              "  <div id=\"df-ba43022f-8df5-41f7-b1f9-db608b60d1da\" class=\"colab-df-container\">\n",
              "    <div>\n",
              "<style scoped>\n",
              "    .dataframe tbody tr th:only-of-type {\n",
              "        vertical-align: middle;\n",
              "    }\n",
              "\n",
              "    .dataframe tbody tr th {\n",
              "        vertical-align: top;\n",
              "    }\n",
              "\n",
              "    .dataframe thead th {\n",
              "        text-align: right;\n",
              "    }\n",
              "</style>\n",
              "<table border=\"1\" class=\"dataframe\">\n",
              "  <thead>\n",
              "    <tr style=\"text-align: right;\">\n",
              "      <th></th>\n",
              "      <th>sepal_length</th>\n",
              "      <th>sepal_width</th>\n",
              "      <th>petal_length</th>\n",
              "      <th>petal_width</th>\n",
              "      <th>species</th>\n",
              "    </tr>\n",
              "  </thead>\n",
              "  <tbody>\n",
              "    <tr>\n",
              "      <th>105</th>\n",
              "      <td>7.6</td>\n",
              "      <td>3.0</td>\n",
              "      <td>6.6</td>\n",
              "      <td>2.1</td>\n",
              "      <td>virginica</td>\n",
              "    </tr>\n",
              "    <tr>\n",
              "      <th>117</th>\n",
              "      <td>7.7</td>\n",
              "      <td>3.8</td>\n",
              "      <td>6.7</td>\n",
              "      <td>2.2</td>\n",
              "      <td>virginica</td>\n",
              "    </tr>\n",
              "    <tr>\n",
              "      <th>118</th>\n",
              "      <td>7.7</td>\n",
              "      <td>2.6</td>\n",
              "      <td>6.9</td>\n",
              "      <td>2.3</td>\n",
              "      <td>virginica</td>\n",
              "    </tr>\n",
              "    <tr>\n",
              "      <th>122</th>\n",
              "      <td>7.7</td>\n",
              "      <td>2.8</td>\n",
              "      <td>6.7</td>\n",
              "      <td>2.0</td>\n",
              "      <td>virginica</td>\n",
              "    </tr>\n",
              "  </tbody>\n",
              "</table>\n",
              "</div>\n",
              "    <div class=\"colab-df-buttons\">\n",
              "\n",
              "  <div class=\"colab-df-container\">\n",
              "    <button class=\"colab-df-convert\" onclick=\"convertToInteractive('df-ba43022f-8df5-41f7-b1f9-db608b60d1da')\"\n",
              "            title=\"Convert this dataframe to an interactive table.\"\n",
              "            style=\"display:none;\">\n",
              "\n",
              "  <svg xmlns=\"http://www.w3.org/2000/svg\" height=\"24px\" viewBox=\"0 -960 960 960\">\n",
              "    <path d=\"M120-120v-720h720v720H120Zm60-500h600v-160H180v160Zm220 220h160v-160H400v160Zm0 220h160v-160H400v160ZM180-400h160v-160H180v160Zm440 0h160v-160H620v160ZM180-180h160v-160H180v160Zm440 0h160v-160H620v160Z\"/>\n",
              "  </svg>\n",
              "    </button>\n",
              "\n",
              "  <style>\n",
              "    .colab-df-container {\n",
              "      display:flex;\n",
              "      gap: 12px;\n",
              "    }\n",
              "\n",
              "    .colab-df-convert {\n",
              "      background-color: #E8F0FE;\n",
              "      border: none;\n",
              "      border-radius: 50%;\n",
              "      cursor: pointer;\n",
              "      display: none;\n",
              "      fill: #1967D2;\n",
              "      height: 32px;\n",
              "      padding: 0 0 0 0;\n",
              "      width: 32px;\n",
              "    }\n",
              "\n",
              "    .colab-df-convert:hover {\n",
              "      background-color: #E2EBFA;\n",
              "      box-shadow: 0px 1px 2px rgba(60, 64, 67, 0.3), 0px 1px 3px 1px rgba(60, 64, 67, 0.15);\n",
              "      fill: #174EA6;\n",
              "    }\n",
              "\n",
              "    .colab-df-buttons div {\n",
              "      margin-bottom: 4px;\n",
              "    }\n",
              "\n",
              "    [theme=dark] .colab-df-convert {\n",
              "      background-color: #3B4455;\n",
              "      fill: #D2E3FC;\n",
              "    }\n",
              "\n",
              "    [theme=dark] .colab-df-convert:hover {\n",
              "      background-color: #434B5C;\n",
              "      box-shadow: 0px 1px 3px 1px rgba(0, 0, 0, 0.15);\n",
              "      filter: drop-shadow(0px 1px 2px rgba(0, 0, 0, 0.3));\n",
              "      fill: #FFFFFF;\n",
              "    }\n",
              "  </style>\n",
              "\n",
              "    <script>\n",
              "      const buttonEl =\n",
              "        document.querySelector('#df-ba43022f-8df5-41f7-b1f9-db608b60d1da button.colab-df-convert');\n",
              "      buttonEl.style.display =\n",
              "        google.colab.kernel.accessAllowed ? 'block' : 'none';\n",
              "\n",
              "      async function convertToInteractive(key) {\n",
              "        const element = document.querySelector('#df-ba43022f-8df5-41f7-b1f9-db608b60d1da');\n",
              "        const dataTable =\n",
              "          await google.colab.kernel.invokeFunction('convertToInteractive',\n",
              "                                                    [key], {});\n",
              "        if (!dataTable) return;\n",
              "\n",
              "        const docLinkHtml = 'Like what you see? Visit the ' +\n",
              "          '<a target=\"_blank\" href=https://colab.research.google.com/notebooks/data_table.ipynb>data table notebook</a>'\n",
              "          + ' to learn more about interactive tables.';\n",
              "        element.innerHTML = '';\n",
              "        dataTable['output_type'] = 'display_data';\n",
              "        await google.colab.output.renderOutput(dataTable, element);\n",
              "        const docLink = document.createElement('div');\n",
              "        docLink.innerHTML = docLinkHtml;\n",
              "        element.appendChild(docLink);\n",
              "      }\n",
              "    </script>\n",
              "  </div>\n",
              "\n",
              "\n",
              "    <div id=\"df-0b4400ff-2781-4512-8328-da8b1a7cd178\">\n",
              "      <button class=\"colab-df-quickchart\" onclick=\"quickchart('df-0b4400ff-2781-4512-8328-da8b1a7cd178')\"\n",
              "                title=\"Suggest charts\"\n",
              "                style=\"display:none;\">\n",
              "\n",
              "<svg xmlns=\"http://www.w3.org/2000/svg\" height=\"24px\"viewBox=\"0 0 24 24\"\n",
              "     width=\"24px\">\n",
              "    <g>\n",
              "        <path d=\"M19 3H5c-1.1 0-2 .9-2 2v14c0 1.1.9 2 2 2h14c1.1 0 2-.9 2-2V5c0-1.1-.9-2-2-2zM9 17H7v-7h2v7zm4 0h-2V7h2v10zm4 0h-2v-4h2v4z\"/>\n",
              "    </g>\n",
              "</svg>\n",
              "      </button>\n",
              "\n",
              "<style>\n",
              "  .colab-df-quickchart {\n",
              "      --bg-color: #E8F0FE;\n",
              "      --fill-color: #1967D2;\n",
              "      --hover-bg-color: #E2EBFA;\n",
              "      --hover-fill-color: #174EA6;\n",
              "      --disabled-fill-color: #AAA;\n",
              "      --disabled-bg-color: #DDD;\n",
              "  }\n",
              "\n",
              "  [theme=dark] .colab-df-quickchart {\n",
              "      --bg-color: #3B4455;\n",
              "      --fill-color: #D2E3FC;\n",
              "      --hover-bg-color: #434B5C;\n",
              "      --hover-fill-color: #FFFFFF;\n",
              "      --disabled-bg-color: #3B4455;\n",
              "      --disabled-fill-color: #666;\n",
              "  }\n",
              "\n",
              "  .colab-df-quickchart {\n",
              "    background-color: var(--bg-color);\n",
              "    border: none;\n",
              "    border-radius: 50%;\n",
              "    cursor: pointer;\n",
              "    display: none;\n",
              "    fill: var(--fill-color);\n",
              "    height: 32px;\n",
              "    padding: 0;\n",
              "    width: 32px;\n",
              "  }\n",
              "\n",
              "  .colab-df-quickchart:hover {\n",
              "    background-color: var(--hover-bg-color);\n",
              "    box-shadow: 0 1px 2px rgba(60, 64, 67, 0.3), 0 1px 3px 1px rgba(60, 64, 67, 0.15);\n",
              "    fill: var(--button-hover-fill-color);\n",
              "  }\n",
              "\n",
              "  .colab-df-quickchart-complete:disabled,\n",
              "  .colab-df-quickchart-complete:disabled:hover {\n",
              "    background-color: var(--disabled-bg-color);\n",
              "    fill: var(--disabled-fill-color);\n",
              "    box-shadow: none;\n",
              "  }\n",
              "\n",
              "  .colab-df-spinner {\n",
              "    border: 2px solid var(--fill-color);\n",
              "    border-color: transparent;\n",
              "    border-bottom-color: var(--fill-color);\n",
              "    animation:\n",
              "      spin 1s steps(1) infinite;\n",
              "  }\n",
              "\n",
              "  @keyframes spin {\n",
              "    0% {\n",
              "      border-color: transparent;\n",
              "      border-bottom-color: var(--fill-color);\n",
              "      border-left-color: var(--fill-color);\n",
              "    }\n",
              "    20% {\n",
              "      border-color: transparent;\n",
              "      border-left-color: var(--fill-color);\n",
              "      border-top-color: var(--fill-color);\n",
              "    }\n",
              "    30% {\n",
              "      border-color: transparent;\n",
              "      border-left-color: var(--fill-color);\n",
              "      border-top-color: var(--fill-color);\n",
              "      border-right-color: var(--fill-color);\n",
              "    }\n",
              "    40% {\n",
              "      border-color: transparent;\n",
              "      border-right-color: var(--fill-color);\n",
              "      border-top-color: var(--fill-color);\n",
              "    }\n",
              "    60% {\n",
              "      border-color: transparent;\n",
              "      border-right-color: var(--fill-color);\n",
              "    }\n",
              "    80% {\n",
              "      border-color: transparent;\n",
              "      border-right-color: var(--fill-color);\n",
              "      border-bottom-color: var(--fill-color);\n",
              "    }\n",
              "    90% {\n",
              "      border-color: transparent;\n",
              "      border-bottom-color: var(--fill-color);\n",
              "    }\n",
              "  }\n",
              "</style>\n",
              "\n",
              "      <script>\n",
              "        async function quickchart(key) {\n",
              "          const quickchartButtonEl =\n",
              "            document.querySelector('#' + key + ' button');\n",
              "          quickchartButtonEl.disabled = true;  // To prevent multiple clicks.\n",
              "          quickchartButtonEl.classList.add('colab-df-spinner');\n",
              "          try {\n",
              "            const charts = await google.colab.kernel.invokeFunction(\n",
              "                'suggestCharts', [key], {});\n",
              "          } catch (error) {\n",
              "            console.error('Error during call to suggestCharts:', error);\n",
              "          }\n",
              "          quickchartButtonEl.classList.remove('colab-df-spinner');\n",
              "          quickchartButtonEl.classList.add('colab-df-quickchart-complete');\n",
              "        }\n",
              "        (() => {\n",
              "          let quickchartButtonEl =\n",
              "            document.querySelector('#df-0b4400ff-2781-4512-8328-da8b1a7cd178 button');\n",
              "          quickchartButtonEl.style.display =\n",
              "            google.colab.kernel.accessAllowed ? 'block' : 'none';\n",
              "        })();\n",
              "      </script>\n",
              "    </div>\n",
              "\n",
              "  <div id=\"id_2f5d9dce-9143-4a08-9561-2fb2d0ab9912\">\n",
              "    <style>\n",
              "      .colab-df-generate {\n",
              "        background-color: #E8F0FE;\n",
              "        border: none;\n",
              "        border-radius: 50%;\n",
              "        cursor: pointer;\n",
              "        display: none;\n",
              "        fill: #1967D2;\n",
              "        height: 32px;\n",
              "        padding: 0 0 0 0;\n",
              "        width: 32px;\n",
              "      }\n",
              "\n",
              "      .colab-df-generate:hover {\n",
              "        background-color: #E2EBFA;\n",
              "        box-shadow: 0px 1px 2px rgba(60, 64, 67, 0.3), 0px 1px 3px 1px rgba(60, 64, 67, 0.15);\n",
              "        fill: #174EA6;\n",
              "      }\n",
              "\n",
              "      [theme=dark] .colab-df-generate {\n",
              "        background-color: #3B4455;\n",
              "        fill: #D2E3FC;\n",
              "      }\n",
              "\n",
              "      [theme=dark] .colab-df-generate:hover {\n",
              "        background-color: #434B5C;\n",
              "        box-shadow: 0px 1px 3px 1px rgba(0, 0, 0, 0.15);\n",
              "        filter: drop-shadow(0px 1px 2px rgba(0, 0, 0, 0.3));\n",
              "        fill: #FFFFFF;\n",
              "      }\n",
              "    </style>\n",
              "    <button class=\"colab-df-generate\" onclick=\"generateWithVariable('data1')\"\n",
              "            title=\"Generate code using this dataframe.\"\n",
              "            style=\"display:none;\">\n",
              "\n",
              "  <svg xmlns=\"http://www.w3.org/2000/svg\" height=\"24px\"viewBox=\"0 0 24 24\"\n",
              "       width=\"24px\">\n",
              "    <path d=\"M7,19H8.4L18.45,9,17,7.55,7,17.6ZM5,21V16.75L18.45,3.32a2,2,0,0,1,2.83,0l1.4,1.43a1.91,1.91,0,0,1,.58,1.4,1.91,1.91,0,0,1-.58,1.4L9.25,21ZM18.45,9,17,7.55Zm-12,3A5.31,5.31,0,0,0,4.9,8.1,5.31,5.31,0,0,0,1,6.5,5.31,5.31,0,0,0,4.9,4.9,5.31,5.31,0,0,0,6.5,1,5.31,5.31,0,0,0,8.1,4.9,5.31,5.31,0,0,0,12,6.5,5.46,5.46,0,0,0,6.5,12Z\"/>\n",
              "  </svg>\n",
              "    </button>\n",
              "    <script>\n",
              "      (() => {\n",
              "      const buttonEl =\n",
              "        document.querySelector('#id_2f5d9dce-9143-4a08-9561-2fb2d0ab9912 button.colab-df-generate');\n",
              "      buttonEl.style.display =\n",
              "        google.colab.kernel.accessAllowed ? 'block' : 'none';\n",
              "\n",
              "      buttonEl.onclick = () => {\n",
              "        google.colab.notebook.generateWithVariable('data1');\n",
              "      }\n",
              "      })();\n",
              "    </script>\n",
              "  </div>\n",
              "\n",
              "    </div>\n",
              "  </div>\n"
            ],
            "application/vnd.google.colaboratory.intrinsic+json": {
              "type": "dataframe",
              "variable_name": "data1",
              "summary": "{\n  \"name\": \"data1\",\n  \"rows\": 4,\n  \"fields\": [\n    {\n      \"column\": \"sepal_length\",\n      \"properties\": {\n        \"dtype\": \"number\",\n        \"std\": 0.050000000000000266,\n        \"min\": 7.6,\n        \"max\": 7.7,\n        \"num_unique_values\": 2,\n        \"samples\": [\n          7.7,\n          7.6\n        ],\n        \"semantic_type\": \"\",\n        \"description\": \"\"\n      }\n    },\n    {\n      \"column\": \"sepal_width\",\n      \"properties\": {\n        \"dtype\": \"number\",\n        \"std\": 0.5259911279353165,\n        \"min\": 2.6,\n        \"max\": 3.8,\n        \"num_unique_values\": 4,\n        \"samples\": [\n          3.8,\n          2.8\n        ],\n        \"semantic_type\": \"\",\n        \"description\": \"\"\n      }\n    },\n    {\n      \"column\": \"petal_length\",\n      \"properties\": {\n        \"dtype\": \"number\",\n        \"std\": 0.1258305739211794,\n        \"min\": 6.6,\n        \"max\": 6.9,\n        \"num_unique_values\": 3,\n        \"samples\": [\n          6.6,\n          6.7\n        ],\n        \"semantic_type\": \"\",\n        \"description\": \"\"\n      }\n    },\n    {\n      \"column\": \"petal_width\",\n      \"properties\": {\n        \"dtype\": \"number\",\n        \"std\": 0.12909944487358052,\n        \"min\": 2.0,\n        \"max\": 2.3,\n        \"num_unique_values\": 4,\n        \"samples\": [\n          2.2,\n          2.0\n        ],\n        \"semantic_type\": \"\",\n        \"description\": \"\"\n      }\n    },\n    {\n      \"column\": \"species\",\n      \"properties\": {\n        \"dtype\": \"category\",\n        \"num_unique_values\": 1,\n        \"samples\": [\n          \"virginica\"\n        ],\n        \"semantic_type\": \"\",\n        \"description\": \"\"\n      }\n    }\n  ]\n}"
            }
          },
          "metadata": {},
          "execution_count": 108
        }
      ]
    },
    {
      "cell_type": "markdown",
      "source": [
        "### 2. 품종별 능력치 비교하기  \n",
        "- 기존: `df.describe()` → 전체 붓꽃의 평균, 표준편차 확인  \n",
        "- 질문: 품종(`species`)별로 통계치를 따로 비교하려면?  \n",
        "- 힌트: `groupby()` 함수를 활용해 보세요.\n",
        "- **groupby()** : 특정 열 기준으로 데이터를 묶어 통계 계산 → 예) df.groupby(\"col\").mean()\n"
      ],
      "metadata": {
        "id": "9j9ZBlJfCmy1"
      }
    },
    {
      "cell_type": "code",
      "source": [
        "# 2번 답안\n",
        "print(df.groupby(\"species\").describe())"
      ],
      "metadata": {
        "id": "yPwhH0dUCpz5",
        "colab": {
          "base_uri": "https://localhost:8080/"
        },
        "outputId": "4e698372-ebb0-4854-9fc1-34d5ddf32fcd"
      },
      "execution_count": 112,
      "outputs": [
        {
          "output_type": "stream",
          "name": "stdout",
          "text": [
            "           sepal_length                                              \\\n",
            "                  count   mean       std  min    25%  50%  75%  max   \n",
            "species                                                               \n",
            "setosa             50.0  5.006  0.352490  4.3  4.800  5.0  5.2  5.8   \n",
            "versicolor         50.0  5.936  0.516171  4.9  5.600  5.9  6.3  7.0   \n",
            "virginica          50.0  6.588  0.635880  4.9  6.225  6.5  6.9  7.9   \n",
            "\n",
            "           sepal_width         ... petal_length      petal_width         \\\n",
            "                 count   mean  ...          75%  max       count   mean   \n",
            "species                        ...                                        \n",
            "setosa            50.0  3.428  ...        1.575  1.9        50.0  0.246   \n",
            "versicolor        50.0  2.770  ...        4.600  5.1        50.0  1.326   \n",
            "virginica         50.0  2.974  ...        5.875  6.9        50.0  2.026   \n",
            "\n",
            "                                               \n",
            "                 std  min  25%  50%  75%  max  \n",
            "species                                        \n",
            "setosa      0.105386  0.1  0.2  0.2  0.3  0.6  \n",
            "versicolor  0.197753  1.0  1.2  1.3  1.5  1.8  \n",
            "virginica   0.274650  1.4  1.8  2.0  2.3  2.5  \n",
            "\n",
            "[3 rows x 32 columns]\n"
          ]
        },
        {
          "output_type": "stream",
          "name": "stderr",
          "text": [
            "/tmp/ipython-input-2149387138.py:2: FutureWarning: The default of observed=False is deprecated and will be changed to True in a future version of pandas. Pass observed=False to retain current behavior or observed=True to adopt the future default and silence this warning.\n",
            "  print(df.groupby(\"species\").describe())\n"
          ]
        }
      ]
    },
    {
      "cell_type": "markdown",
      "source": [
        "### 3. 가장 긴 꽃잎의 길이는?  \n",
        "- 기존: `df['petal_length']` → 모든 꽃잎 길이 확인  \n",
        "- 질문: 그중에서 가장 큰 값 딱 하나만 보려면 어떤 함수를 붙이면 될까요?"
      ],
      "metadata": {
        "id": "ekclg32eCrZ5"
      }
    },
    {
      "cell_type": "code",
      "source": [
        "# 3번 답안\n",
        "df['petal_length'].max()"
      ],
      "metadata": {
        "id": "jAYUxEf7Cvsd",
        "colab": {
          "base_uri": "https://localhost:8080/"
        },
        "outputId": "afa71cf2-cdc9-4733-8f86-199e8e8d48b2"
      },
      "execution_count": 113,
      "outputs": [
        {
          "output_type": "execute_result",
          "data": {
            "text/plain": [
              "6.9"
            ]
          },
          "metadata": {},
          "execution_count": 113
        }
      ]
    },
    {
      "cell_type": "markdown",
      "source": [
        "### 4. 새로운 특징(Feature) 만들기  \n",
        "- 기존: 꽃잎 길이 × 너비 → `'petal_area'` 컬럼 생성  \n",
        "- 질문: 꽃잎 길이 ÷ 꽃잎 너비 → `'petal_ratio'` 컬럼을 만들려면?"
      ],
      "metadata": {
        "id": "5RcG2eDRCxR5"
      }
    },
    {
      "cell_type": "code",
      "source": [
        "# 4번 답안\n",
        "df['petal_ratio'] = df['petal_length'] / df['petal_width']\n",
        "df"
      ],
      "metadata": {
        "id": "emS6UrLWC0aQ",
        "colab": {
          "base_uri": "https://localhost:8080/",
          "height": 424
        },
        "outputId": "05a96c9f-d709-4399-dc00-44f49e437369"
      },
      "execution_count": 114,
      "outputs": [
        {
          "output_type": "execute_result",
          "data": {
            "text/plain": [
              "     sepal_length  sepal_width  petal_length  petal_width    species  \\\n",
              "0             5.1          3.5           1.4          0.2     setosa   \n",
              "1             4.9          3.0           1.4          0.2     setosa   \n",
              "2             4.7          3.2           1.3          0.2     setosa   \n",
              "3             4.6          3.1           1.5          0.2     setosa   \n",
              "4             5.0          3.6           1.4          0.2     setosa   \n",
              "..            ...          ...           ...          ...        ...   \n",
              "145           6.7          3.0           5.2          2.3  virginica   \n",
              "146           6.3          2.5           5.0          1.9  virginica   \n",
              "147           6.5          3.0           5.2          2.0  virginica   \n",
              "148           6.2          3.4           5.4          2.3  virginica   \n",
              "149           5.9          3.0           5.1          1.8  virginica   \n",
              "\n",
              "     petal_ratio  \n",
              "0       7.000000  \n",
              "1       7.000000  \n",
              "2       6.500000  \n",
              "3       7.500000  \n",
              "4       7.000000  \n",
              "..           ...  \n",
              "145     2.260870  \n",
              "146     2.631579  \n",
              "147     2.600000  \n",
              "148     2.347826  \n",
              "149     2.833333  \n",
              "\n",
              "[150 rows x 6 columns]"
            ],
            "text/html": [
              "\n",
              "  <div id=\"df-e9e0d694-3fcd-4417-b177-b7744ccfcef5\" class=\"colab-df-container\">\n",
              "    <div>\n",
              "<style scoped>\n",
              "    .dataframe tbody tr th:only-of-type {\n",
              "        vertical-align: middle;\n",
              "    }\n",
              "\n",
              "    .dataframe tbody tr th {\n",
              "        vertical-align: top;\n",
              "    }\n",
              "\n",
              "    .dataframe thead th {\n",
              "        text-align: right;\n",
              "    }\n",
              "</style>\n",
              "<table border=\"1\" class=\"dataframe\">\n",
              "  <thead>\n",
              "    <tr style=\"text-align: right;\">\n",
              "      <th></th>\n",
              "      <th>sepal_length</th>\n",
              "      <th>sepal_width</th>\n",
              "      <th>petal_length</th>\n",
              "      <th>petal_width</th>\n",
              "      <th>species</th>\n",
              "      <th>petal_ratio</th>\n",
              "    </tr>\n",
              "  </thead>\n",
              "  <tbody>\n",
              "    <tr>\n",
              "      <th>0</th>\n",
              "      <td>5.1</td>\n",
              "      <td>3.5</td>\n",
              "      <td>1.4</td>\n",
              "      <td>0.2</td>\n",
              "      <td>setosa</td>\n",
              "      <td>7.000000</td>\n",
              "    </tr>\n",
              "    <tr>\n",
              "      <th>1</th>\n",
              "      <td>4.9</td>\n",
              "      <td>3.0</td>\n",
              "      <td>1.4</td>\n",
              "      <td>0.2</td>\n",
              "      <td>setosa</td>\n",
              "      <td>7.000000</td>\n",
              "    </tr>\n",
              "    <tr>\n",
              "      <th>2</th>\n",
              "      <td>4.7</td>\n",
              "      <td>3.2</td>\n",
              "      <td>1.3</td>\n",
              "      <td>0.2</td>\n",
              "      <td>setosa</td>\n",
              "      <td>6.500000</td>\n",
              "    </tr>\n",
              "    <tr>\n",
              "      <th>3</th>\n",
              "      <td>4.6</td>\n",
              "      <td>3.1</td>\n",
              "      <td>1.5</td>\n",
              "      <td>0.2</td>\n",
              "      <td>setosa</td>\n",
              "      <td>7.500000</td>\n",
              "    </tr>\n",
              "    <tr>\n",
              "      <th>4</th>\n",
              "      <td>5.0</td>\n",
              "      <td>3.6</td>\n",
              "      <td>1.4</td>\n",
              "      <td>0.2</td>\n",
              "      <td>setosa</td>\n",
              "      <td>7.000000</td>\n",
              "    </tr>\n",
              "    <tr>\n",
              "      <th>...</th>\n",
              "      <td>...</td>\n",
              "      <td>...</td>\n",
              "      <td>...</td>\n",
              "      <td>...</td>\n",
              "      <td>...</td>\n",
              "      <td>...</td>\n",
              "    </tr>\n",
              "    <tr>\n",
              "      <th>145</th>\n",
              "      <td>6.7</td>\n",
              "      <td>3.0</td>\n",
              "      <td>5.2</td>\n",
              "      <td>2.3</td>\n",
              "      <td>virginica</td>\n",
              "      <td>2.260870</td>\n",
              "    </tr>\n",
              "    <tr>\n",
              "      <th>146</th>\n",
              "      <td>6.3</td>\n",
              "      <td>2.5</td>\n",
              "      <td>5.0</td>\n",
              "      <td>1.9</td>\n",
              "      <td>virginica</td>\n",
              "      <td>2.631579</td>\n",
              "    </tr>\n",
              "    <tr>\n",
              "      <th>147</th>\n",
              "      <td>6.5</td>\n",
              "      <td>3.0</td>\n",
              "      <td>5.2</td>\n",
              "      <td>2.0</td>\n",
              "      <td>virginica</td>\n",
              "      <td>2.600000</td>\n",
              "    </tr>\n",
              "    <tr>\n",
              "      <th>148</th>\n",
              "      <td>6.2</td>\n",
              "      <td>3.4</td>\n",
              "      <td>5.4</td>\n",
              "      <td>2.3</td>\n",
              "      <td>virginica</td>\n",
              "      <td>2.347826</td>\n",
              "    </tr>\n",
              "    <tr>\n",
              "      <th>149</th>\n",
              "      <td>5.9</td>\n",
              "      <td>3.0</td>\n",
              "      <td>5.1</td>\n",
              "      <td>1.8</td>\n",
              "      <td>virginica</td>\n",
              "      <td>2.833333</td>\n",
              "    </tr>\n",
              "  </tbody>\n",
              "</table>\n",
              "<p>150 rows × 6 columns</p>\n",
              "</div>\n",
              "    <div class=\"colab-df-buttons\">\n",
              "\n",
              "  <div class=\"colab-df-container\">\n",
              "    <button class=\"colab-df-convert\" onclick=\"convertToInteractive('df-e9e0d694-3fcd-4417-b177-b7744ccfcef5')\"\n",
              "            title=\"Convert this dataframe to an interactive table.\"\n",
              "            style=\"display:none;\">\n",
              "\n",
              "  <svg xmlns=\"http://www.w3.org/2000/svg\" height=\"24px\" viewBox=\"0 -960 960 960\">\n",
              "    <path d=\"M120-120v-720h720v720H120Zm60-500h600v-160H180v160Zm220 220h160v-160H400v160Zm0 220h160v-160H400v160ZM180-400h160v-160H180v160Zm440 0h160v-160H620v160ZM180-180h160v-160H180v160Zm440 0h160v-160H620v160Z\"/>\n",
              "  </svg>\n",
              "    </button>\n",
              "\n",
              "  <style>\n",
              "    .colab-df-container {\n",
              "      display:flex;\n",
              "      gap: 12px;\n",
              "    }\n",
              "\n",
              "    .colab-df-convert {\n",
              "      background-color: #E8F0FE;\n",
              "      border: none;\n",
              "      border-radius: 50%;\n",
              "      cursor: pointer;\n",
              "      display: none;\n",
              "      fill: #1967D2;\n",
              "      height: 32px;\n",
              "      padding: 0 0 0 0;\n",
              "      width: 32px;\n",
              "    }\n",
              "\n",
              "    .colab-df-convert:hover {\n",
              "      background-color: #E2EBFA;\n",
              "      box-shadow: 0px 1px 2px rgba(60, 64, 67, 0.3), 0px 1px 3px 1px rgba(60, 64, 67, 0.15);\n",
              "      fill: #174EA6;\n",
              "    }\n",
              "\n",
              "    .colab-df-buttons div {\n",
              "      margin-bottom: 4px;\n",
              "    }\n",
              "\n",
              "    [theme=dark] .colab-df-convert {\n",
              "      background-color: #3B4455;\n",
              "      fill: #D2E3FC;\n",
              "    }\n",
              "\n",
              "    [theme=dark] .colab-df-convert:hover {\n",
              "      background-color: #434B5C;\n",
              "      box-shadow: 0px 1px 3px 1px rgba(0, 0, 0, 0.15);\n",
              "      filter: drop-shadow(0px 1px 2px rgba(0, 0, 0, 0.3));\n",
              "      fill: #FFFFFF;\n",
              "    }\n",
              "  </style>\n",
              "\n",
              "    <script>\n",
              "      const buttonEl =\n",
              "        document.querySelector('#df-e9e0d694-3fcd-4417-b177-b7744ccfcef5 button.colab-df-convert');\n",
              "      buttonEl.style.display =\n",
              "        google.colab.kernel.accessAllowed ? 'block' : 'none';\n",
              "\n",
              "      async function convertToInteractive(key) {\n",
              "        const element = document.querySelector('#df-e9e0d694-3fcd-4417-b177-b7744ccfcef5');\n",
              "        const dataTable =\n",
              "          await google.colab.kernel.invokeFunction('convertToInteractive',\n",
              "                                                    [key], {});\n",
              "        if (!dataTable) return;\n",
              "\n",
              "        const docLinkHtml = 'Like what you see? Visit the ' +\n",
              "          '<a target=\"_blank\" href=https://colab.research.google.com/notebooks/data_table.ipynb>data table notebook</a>'\n",
              "          + ' to learn more about interactive tables.';\n",
              "        element.innerHTML = '';\n",
              "        dataTable['output_type'] = 'display_data';\n",
              "        await google.colab.output.renderOutput(dataTable, element);\n",
              "        const docLink = document.createElement('div');\n",
              "        docLink.innerHTML = docLinkHtml;\n",
              "        element.appendChild(docLink);\n",
              "      }\n",
              "    </script>\n",
              "  </div>\n",
              "\n",
              "\n",
              "    <div id=\"df-a42797e3-8cda-4daa-b58a-f792e02de89d\">\n",
              "      <button class=\"colab-df-quickchart\" onclick=\"quickchart('df-a42797e3-8cda-4daa-b58a-f792e02de89d')\"\n",
              "                title=\"Suggest charts\"\n",
              "                style=\"display:none;\">\n",
              "\n",
              "<svg xmlns=\"http://www.w3.org/2000/svg\" height=\"24px\"viewBox=\"0 0 24 24\"\n",
              "     width=\"24px\">\n",
              "    <g>\n",
              "        <path d=\"M19 3H5c-1.1 0-2 .9-2 2v14c0 1.1.9 2 2 2h14c1.1 0 2-.9 2-2V5c0-1.1-.9-2-2-2zM9 17H7v-7h2v7zm4 0h-2V7h2v10zm4 0h-2v-4h2v4z\"/>\n",
              "    </g>\n",
              "</svg>\n",
              "      </button>\n",
              "\n",
              "<style>\n",
              "  .colab-df-quickchart {\n",
              "      --bg-color: #E8F0FE;\n",
              "      --fill-color: #1967D2;\n",
              "      --hover-bg-color: #E2EBFA;\n",
              "      --hover-fill-color: #174EA6;\n",
              "      --disabled-fill-color: #AAA;\n",
              "      --disabled-bg-color: #DDD;\n",
              "  }\n",
              "\n",
              "  [theme=dark] .colab-df-quickchart {\n",
              "      --bg-color: #3B4455;\n",
              "      --fill-color: #D2E3FC;\n",
              "      --hover-bg-color: #434B5C;\n",
              "      --hover-fill-color: #FFFFFF;\n",
              "      --disabled-bg-color: #3B4455;\n",
              "      --disabled-fill-color: #666;\n",
              "  }\n",
              "\n",
              "  .colab-df-quickchart {\n",
              "    background-color: var(--bg-color);\n",
              "    border: none;\n",
              "    border-radius: 50%;\n",
              "    cursor: pointer;\n",
              "    display: none;\n",
              "    fill: var(--fill-color);\n",
              "    height: 32px;\n",
              "    padding: 0;\n",
              "    width: 32px;\n",
              "  }\n",
              "\n",
              "  .colab-df-quickchart:hover {\n",
              "    background-color: var(--hover-bg-color);\n",
              "    box-shadow: 0 1px 2px rgba(60, 64, 67, 0.3), 0 1px 3px 1px rgba(60, 64, 67, 0.15);\n",
              "    fill: var(--button-hover-fill-color);\n",
              "  }\n",
              "\n",
              "  .colab-df-quickchart-complete:disabled,\n",
              "  .colab-df-quickchart-complete:disabled:hover {\n",
              "    background-color: var(--disabled-bg-color);\n",
              "    fill: var(--disabled-fill-color);\n",
              "    box-shadow: none;\n",
              "  }\n",
              "\n",
              "  .colab-df-spinner {\n",
              "    border: 2px solid var(--fill-color);\n",
              "    border-color: transparent;\n",
              "    border-bottom-color: var(--fill-color);\n",
              "    animation:\n",
              "      spin 1s steps(1) infinite;\n",
              "  }\n",
              "\n",
              "  @keyframes spin {\n",
              "    0% {\n",
              "      border-color: transparent;\n",
              "      border-bottom-color: var(--fill-color);\n",
              "      border-left-color: var(--fill-color);\n",
              "    }\n",
              "    20% {\n",
              "      border-color: transparent;\n",
              "      border-left-color: var(--fill-color);\n",
              "      border-top-color: var(--fill-color);\n",
              "    }\n",
              "    30% {\n",
              "      border-color: transparent;\n",
              "      border-left-color: var(--fill-color);\n",
              "      border-top-color: var(--fill-color);\n",
              "      border-right-color: var(--fill-color);\n",
              "    }\n",
              "    40% {\n",
              "      border-color: transparent;\n",
              "      border-right-color: var(--fill-color);\n",
              "      border-top-color: var(--fill-color);\n",
              "    }\n",
              "    60% {\n",
              "      border-color: transparent;\n",
              "      border-right-color: var(--fill-color);\n",
              "    }\n",
              "    80% {\n",
              "      border-color: transparent;\n",
              "      border-right-color: var(--fill-color);\n",
              "      border-bottom-color: var(--fill-color);\n",
              "    }\n",
              "    90% {\n",
              "      border-color: transparent;\n",
              "      border-bottom-color: var(--fill-color);\n",
              "    }\n",
              "  }\n",
              "</style>\n",
              "\n",
              "      <script>\n",
              "        async function quickchart(key) {\n",
              "          const quickchartButtonEl =\n",
              "            document.querySelector('#' + key + ' button');\n",
              "          quickchartButtonEl.disabled = true;  // To prevent multiple clicks.\n",
              "          quickchartButtonEl.classList.add('colab-df-spinner');\n",
              "          try {\n",
              "            const charts = await google.colab.kernel.invokeFunction(\n",
              "                'suggestCharts', [key], {});\n",
              "          } catch (error) {\n",
              "            console.error('Error during call to suggestCharts:', error);\n",
              "          }\n",
              "          quickchartButtonEl.classList.remove('colab-df-spinner');\n",
              "          quickchartButtonEl.classList.add('colab-df-quickchart-complete');\n",
              "        }\n",
              "        (() => {\n",
              "          let quickchartButtonEl =\n",
              "            document.querySelector('#df-a42797e3-8cda-4daa-b58a-f792e02de89d button');\n",
              "          quickchartButtonEl.style.display =\n",
              "            google.colab.kernel.accessAllowed ? 'block' : 'none';\n",
              "        })();\n",
              "      </script>\n",
              "    </div>\n",
              "\n",
              "  <div id=\"id_3cffbaaa-e727-4d4c-8f4c-fe205d8efbe6\">\n",
              "    <style>\n",
              "      .colab-df-generate {\n",
              "        background-color: #E8F0FE;\n",
              "        border: none;\n",
              "        border-radius: 50%;\n",
              "        cursor: pointer;\n",
              "        display: none;\n",
              "        fill: #1967D2;\n",
              "        height: 32px;\n",
              "        padding: 0 0 0 0;\n",
              "        width: 32px;\n",
              "      }\n",
              "\n",
              "      .colab-df-generate:hover {\n",
              "        background-color: #E2EBFA;\n",
              "        box-shadow: 0px 1px 2px rgba(60, 64, 67, 0.3), 0px 1px 3px 1px rgba(60, 64, 67, 0.15);\n",
              "        fill: #174EA6;\n",
              "      }\n",
              "\n",
              "      [theme=dark] .colab-df-generate {\n",
              "        background-color: #3B4455;\n",
              "        fill: #D2E3FC;\n",
              "      }\n",
              "\n",
              "      [theme=dark] .colab-df-generate:hover {\n",
              "        background-color: #434B5C;\n",
              "        box-shadow: 0px 1px 3px 1px rgba(0, 0, 0, 0.15);\n",
              "        filter: drop-shadow(0px 1px 2px rgba(0, 0, 0, 0.3));\n",
              "        fill: #FFFFFF;\n",
              "      }\n",
              "    </style>\n",
              "    <button class=\"colab-df-generate\" onclick=\"generateWithVariable('df')\"\n",
              "            title=\"Generate code using this dataframe.\"\n",
              "            style=\"display:none;\">\n",
              "\n",
              "  <svg xmlns=\"http://www.w3.org/2000/svg\" height=\"24px\"viewBox=\"0 0 24 24\"\n",
              "       width=\"24px\">\n",
              "    <path d=\"M7,19H8.4L18.45,9,17,7.55,7,17.6ZM5,21V16.75L18.45,3.32a2,2,0,0,1,2.83,0l1.4,1.43a1.91,1.91,0,0,1,.58,1.4,1.91,1.91,0,0,1-.58,1.4L9.25,21ZM18.45,9,17,7.55Zm-12,3A5.31,5.31,0,0,0,4.9,8.1,5.31,5.31,0,0,0,1,6.5,5.31,5.31,0,0,0,4.9,4.9,5.31,5.31,0,0,0,6.5,1,5.31,5.31,0,0,0,8.1,4.9,5.31,5.31,0,0,0,12,6.5,5.46,5.46,0,0,0,6.5,12Z\"/>\n",
              "  </svg>\n",
              "    </button>\n",
              "    <script>\n",
              "      (() => {\n",
              "      const buttonEl =\n",
              "        document.querySelector('#id_3cffbaaa-e727-4d4c-8f4c-fe205d8efbe6 button.colab-df-generate');\n",
              "      buttonEl.style.display =\n",
              "        google.colab.kernel.accessAllowed ? 'block' : 'none';\n",
              "\n",
              "      buttonEl.onclick = () => {\n",
              "        google.colab.notebook.generateWithVariable('df');\n",
              "      }\n",
              "      })();\n",
              "    </script>\n",
              "  </div>\n",
              "\n",
              "    </div>\n",
              "  </div>\n"
            ],
            "application/vnd.google.colaboratory.intrinsic+json": {
              "type": "dataframe",
              "variable_name": "df",
              "summary": "{\n  \"name\": \"df\",\n  \"rows\": 150,\n  \"fields\": [\n    {\n      \"column\": \"sepal_length\",\n      \"properties\": {\n        \"dtype\": \"number\",\n        \"std\": 0.8280661279778629,\n        \"min\": 4.3,\n        \"max\": 7.9,\n        \"num_unique_values\": 35,\n        \"samples\": [\n          6.2,\n          4.5,\n          5.6\n        ],\n        \"semantic_type\": \"\",\n        \"description\": \"\"\n      }\n    },\n    {\n      \"column\": \"sepal_width\",\n      \"properties\": {\n        \"dtype\": \"number\",\n        \"std\": 0.435866284936698,\n        \"min\": 2.0,\n        \"max\": 4.4,\n        \"num_unique_values\": 23,\n        \"samples\": [\n          2.3,\n          4.0,\n          3.5\n        ],\n        \"semantic_type\": \"\",\n        \"description\": \"\"\n      }\n    },\n    {\n      \"column\": \"petal_length\",\n      \"properties\": {\n        \"dtype\": \"number\",\n        \"std\": 1.7652982332594667,\n        \"min\": 1.0,\n        \"max\": 6.9,\n        \"num_unique_values\": 43,\n        \"samples\": [\n          6.7,\n          3.8,\n          3.7\n        ],\n        \"semantic_type\": \"\",\n        \"description\": \"\"\n      }\n    },\n    {\n      \"column\": \"petal_width\",\n      \"properties\": {\n        \"dtype\": \"number\",\n        \"std\": 0.7622376689603465,\n        \"min\": 0.1,\n        \"max\": 2.5,\n        \"num_unique_values\": 22,\n        \"samples\": [\n          0.2,\n          1.2,\n          1.3\n        ],\n        \"semantic_type\": \"\",\n        \"description\": \"\"\n      }\n    },\n    {\n      \"column\": \"species\",\n      \"properties\": {\n        \"dtype\": \"category\",\n        \"num_unique_values\": 3,\n        \"samples\": [\n          \"setosa\",\n          \"versicolor\",\n          \"virginica\"\n        ],\n        \"semantic_type\": \"\",\n        \"description\": \"\"\n      }\n    },\n    {\n      \"column\": \"petal_ratio\",\n      \"properties\": {\n        \"dtype\": \"number\",\n        \"std\": 2.489648203570515,\n        \"min\": 2.125,\n        \"max\": 15.0,\n        \"num_unique_values\": 94,\n        \"samples\": [\n          3.428571428571429,\n          3.0,\n          2.4\n        ],\n        \"semantic_type\": \"\",\n        \"description\": \"\"\n      }\n    }\n  ]\n}"
            }
          },
          "metadata": {},
          "execution_count": 114
        }
      ]
    },
    {
      "cell_type": "markdown",
      "source": [
        "### 5. 최강자 TOP 5 선발하기  \n",
        "- 기존: `df.head()` → 단순히 위에서 5개 확인  \n",
        "- 질문: **꽃받침 길이(`sepal_length`)** 기준으로 정렬한 뒤, 상위 5개만 보려면?  \n",
        "- 힌트: `sort_values()` + `head()` 조합!\n",
        "- **sort_values()** : 특정 열 기준으로 데이터 정렬 → 예) df.sort_values(by=\"col\", ascending=False)\n",
        "  - **ascending=True** : 오름차순 정렬 (작은 값 → 큰 값, 기본값)      \n",
        "  - **ascending=False** : 내림차순 정렬 (큰 값 → 작은 값)"
      ],
      "metadata": {
        "id": "waAwphnYC2MH"
      }
    },
    {
      "cell_type": "code",
      "source": [
        "# 5번 답안\n",
        "top5 = df.sort_values(by = 'sepal_length', ascending = False)\n",
        "top5.head(5)"
      ],
      "metadata": {
        "id": "Jz9sYG2sC4xa",
        "colab": {
          "base_uri": "https://localhost:8080/",
          "height": 206
        },
        "outputId": "37d7c8e0-5afc-496b-de13-39fb847acdce"
      },
      "execution_count": 116,
      "outputs": [
        {
          "output_type": "execute_result",
          "data": {
            "text/plain": [
              "     sepal_length  sepal_width  petal_length  petal_width    species  \\\n",
              "131           7.9          3.8           6.4          2.0  virginica   \n",
              "122           7.7          2.8           6.7          2.0  virginica   \n",
              "118           7.7          2.6           6.9          2.3  virginica   \n",
              "117           7.7          3.8           6.7          2.2  virginica   \n",
              "135           7.7          3.0           6.1          2.3  virginica   \n",
              "\n",
              "     petal_ratio  \n",
              "131     3.200000  \n",
              "122     3.350000  \n",
              "118     3.000000  \n",
              "117     3.045455  \n",
              "135     2.652174  "
            ],
            "text/html": [
              "\n",
              "  <div id=\"df-39c8c505-b833-4ed7-a4fc-b2e7819dbd83\" class=\"colab-df-container\">\n",
              "    <div>\n",
              "<style scoped>\n",
              "    .dataframe tbody tr th:only-of-type {\n",
              "        vertical-align: middle;\n",
              "    }\n",
              "\n",
              "    .dataframe tbody tr th {\n",
              "        vertical-align: top;\n",
              "    }\n",
              "\n",
              "    .dataframe thead th {\n",
              "        text-align: right;\n",
              "    }\n",
              "</style>\n",
              "<table border=\"1\" class=\"dataframe\">\n",
              "  <thead>\n",
              "    <tr style=\"text-align: right;\">\n",
              "      <th></th>\n",
              "      <th>sepal_length</th>\n",
              "      <th>sepal_width</th>\n",
              "      <th>petal_length</th>\n",
              "      <th>petal_width</th>\n",
              "      <th>species</th>\n",
              "      <th>petal_ratio</th>\n",
              "    </tr>\n",
              "  </thead>\n",
              "  <tbody>\n",
              "    <tr>\n",
              "      <th>131</th>\n",
              "      <td>7.9</td>\n",
              "      <td>3.8</td>\n",
              "      <td>6.4</td>\n",
              "      <td>2.0</td>\n",
              "      <td>virginica</td>\n",
              "      <td>3.200000</td>\n",
              "    </tr>\n",
              "    <tr>\n",
              "      <th>122</th>\n",
              "      <td>7.7</td>\n",
              "      <td>2.8</td>\n",
              "      <td>6.7</td>\n",
              "      <td>2.0</td>\n",
              "      <td>virginica</td>\n",
              "      <td>3.350000</td>\n",
              "    </tr>\n",
              "    <tr>\n",
              "      <th>118</th>\n",
              "      <td>7.7</td>\n",
              "      <td>2.6</td>\n",
              "      <td>6.9</td>\n",
              "      <td>2.3</td>\n",
              "      <td>virginica</td>\n",
              "      <td>3.000000</td>\n",
              "    </tr>\n",
              "    <tr>\n",
              "      <th>117</th>\n",
              "      <td>7.7</td>\n",
              "      <td>3.8</td>\n",
              "      <td>6.7</td>\n",
              "      <td>2.2</td>\n",
              "      <td>virginica</td>\n",
              "      <td>3.045455</td>\n",
              "    </tr>\n",
              "    <tr>\n",
              "      <th>135</th>\n",
              "      <td>7.7</td>\n",
              "      <td>3.0</td>\n",
              "      <td>6.1</td>\n",
              "      <td>2.3</td>\n",
              "      <td>virginica</td>\n",
              "      <td>2.652174</td>\n",
              "    </tr>\n",
              "  </tbody>\n",
              "</table>\n",
              "</div>\n",
              "    <div class=\"colab-df-buttons\">\n",
              "\n",
              "  <div class=\"colab-df-container\">\n",
              "    <button class=\"colab-df-convert\" onclick=\"convertToInteractive('df-39c8c505-b833-4ed7-a4fc-b2e7819dbd83')\"\n",
              "            title=\"Convert this dataframe to an interactive table.\"\n",
              "            style=\"display:none;\">\n",
              "\n",
              "  <svg xmlns=\"http://www.w3.org/2000/svg\" height=\"24px\" viewBox=\"0 -960 960 960\">\n",
              "    <path d=\"M120-120v-720h720v720H120Zm60-500h600v-160H180v160Zm220 220h160v-160H400v160Zm0 220h160v-160H400v160ZM180-400h160v-160H180v160Zm440 0h160v-160H620v160ZM180-180h160v-160H180v160Zm440 0h160v-160H620v160Z\"/>\n",
              "  </svg>\n",
              "    </button>\n",
              "\n",
              "  <style>\n",
              "    .colab-df-container {\n",
              "      display:flex;\n",
              "      gap: 12px;\n",
              "    }\n",
              "\n",
              "    .colab-df-convert {\n",
              "      background-color: #E8F0FE;\n",
              "      border: none;\n",
              "      border-radius: 50%;\n",
              "      cursor: pointer;\n",
              "      display: none;\n",
              "      fill: #1967D2;\n",
              "      height: 32px;\n",
              "      padding: 0 0 0 0;\n",
              "      width: 32px;\n",
              "    }\n",
              "\n",
              "    .colab-df-convert:hover {\n",
              "      background-color: #E2EBFA;\n",
              "      box-shadow: 0px 1px 2px rgba(60, 64, 67, 0.3), 0px 1px 3px 1px rgba(60, 64, 67, 0.15);\n",
              "      fill: #174EA6;\n",
              "    }\n",
              "\n",
              "    .colab-df-buttons div {\n",
              "      margin-bottom: 4px;\n",
              "    }\n",
              "\n",
              "    [theme=dark] .colab-df-convert {\n",
              "      background-color: #3B4455;\n",
              "      fill: #D2E3FC;\n",
              "    }\n",
              "\n",
              "    [theme=dark] .colab-df-convert:hover {\n",
              "      background-color: #434B5C;\n",
              "      box-shadow: 0px 1px 3px 1px rgba(0, 0, 0, 0.15);\n",
              "      filter: drop-shadow(0px 1px 2px rgba(0, 0, 0, 0.3));\n",
              "      fill: #FFFFFF;\n",
              "    }\n",
              "  </style>\n",
              "\n",
              "    <script>\n",
              "      const buttonEl =\n",
              "        document.querySelector('#df-39c8c505-b833-4ed7-a4fc-b2e7819dbd83 button.colab-df-convert');\n",
              "      buttonEl.style.display =\n",
              "        google.colab.kernel.accessAllowed ? 'block' : 'none';\n",
              "\n",
              "      async function convertToInteractive(key) {\n",
              "        const element = document.querySelector('#df-39c8c505-b833-4ed7-a4fc-b2e7819dbd83');\n",
              "        const dataTable =\n",
              "          await google.colab.kernel.invokeFunction('convertToInteractive',\n",
              "                                                    [key], {});\n",
              "        if (!dataTable) return;\n",
              "\n",
              "        const docLinkHtml = 'Like what you see? Visit the ' +\n",
              "          '<a target=\"_blank\" href=https://colab.research.google.com/notebooks/data_table.ipynb>data table notebook</a>'\n",
              "          + ' to learn more about interactive tables.';\n",
              "        element.innerHTML = '';\n",
              "        dataTable['output_type'] = 'display_data';\n",
              "        await google.colab.output.renderOutput(dataTable, element);\n",
              "        const docLink = document.createElement('div');\n",
              "        docLink.innerHTML = docLinkHtml;\n",
              "        element.appendChild(docLink);\n",
              "      }\n",
              "    </script>\n",
              "  </div>\n",
              "\n",
              "\n",
              "    <div id=\"df-21b18e79-2930-441d-97bf-0b078154d673\">\n",
              "      <button class=\"colab-df-quickchart\" onclick=\"quickchart('df-21b18e79-2930-441d-97bf-0b078154d673')\"\n",
              "                title=\"Suggest charts\"\n",
              "                style=\"display:none;\">\n",
              "\n",
              "<svg xmlns=\"http://www.w3.org/2000/svg\" height=\"24px\"viewBox=\"0 0 24 24\"\n",
              "     width=\"24px\">\n",
              "    <g>\n",
              "        <path d=\"M19 3H5c-1.1 0-2 .9-2 2v14c0 1.1.9 2 2 2h14c1.1 0 2-.9 2-2V5c0-1.1-.9-2-2-2zM9 17H7v-7h2v7zm4 0h-2V7h2v10zm4 0h-2v-4h2v4z\"/>\n",
              "    </g>\n",
              "</svg>\n",
              "      </button>\n",
              "\n",
              "<style>\n",
              "  .colab-df-quickchart {\n",
              "      --bg-color: #E8F0FE;\n",
              "      --fill-color: #1967D2;\n",
              "      --hover-bg-color: #E2EBFA;\n",
              "      --hover-fill-color: #174EA6;\n",
              "      --disabled-fill-color: #AAA;\n",
              "      --disabled-bg-color: #DDD;\n",
              "  }\n",
              "\n",
              "  [theme=dark] .colab-df-quickchart {\n",
              "      --bg-color: #3B4455;\n",
              "      --fill-color: #D2E3FC;\n",
              "      --hover-bg-color: #434B5C;\n",
              "      --hover-fill-color: #FFFFFF;\n",
              "      --disabled-bg-color: #3B4455;\n",
              "      --disabled-fill-color: #666;\n",
              "  }\n",
              "\n",
              "  .colab-df-quickchart {\n",
              "    background-color: var(--bg-color);\n",
              "    border: none;\n",
              "    border-radius: 50%;\n",
              "    cursor: pointer;\n",
              "    display: none;\n",
              "    fill: var(--fill-color);\n",
              "    height: 32px;\n",
              "    padding: 0;\n",
              "    width: 32px;\n",
              "  }\n",
              "\n",
              "  .colab-df-quickchart:hover {\n",
              "    background-color: var(--hover-bg-color);\n",
              "    box-shadow: 0 1px 2px rgba(60, 64, 67, 0.3), 0 1px 3px 1px rgba(60, 64, 67, 0.15);\n",
              "    fill: var(--button-hover-fill-color);\n",
              "  }\n",
              "\n",
              "  .colab-df-quickchart-complete:disabled,\n",
              "  .colab-df-quickchart-complete:disabled:hover {\n",
              "    background-color: var(--disabled-bg-color);\n",
              "    fill: var(--disabled-fill-color);\n",
              "    box-shadow: none;\n",
              "  }\n",
              "\n",
              "  .colab-df-spinner {\n",
              "    border: 2px solid var(--fill-color);\n",
              "    border-color: transparent;\n",
              "    border-bottom-color: var(--fill-color);\n",
              "    animation:\n",
              "      spin 1s steps(1) infinite;\n",
              "  }\n",
              "\n",
              "  @keyframes spin {\n",
              "    0% {\n",
              "      border-color: transparent;\n",
              "      border-bottom-color: var(--fill-color);\n",
              "      border-left-color: var(--fill-color);\n",
              "    }\n",
              "    20% {\n",
              "      border-color: transparent;\n",
              "      border-left-color: var(--fill-color);\n",
              "      border-top-color: var(--fill-color);\n",
              "    }\n",
              "    30% {\n",
              "      border-color: transparent;\n",
              "      border-left-color: var(--fill-color);\n",
              "      border-top-color: var(--fill-color);\n",
              "      border-right-color: var(--fill-color);\n",
              "    }\n",
              "    40% {\n",
              "      border-color: transparent;\n",
              "      border-right-color: var(--fill-color);\n",
              "      border-top-color: var(--fill-color);\n",
              "    }\n",
              "    60% {\n",
              "      border-color: transparent;\n",
              "      border-right-color: var(--fill-color);\n",
              "    }\n",
              "    80% {\n",
              "      border-color: transparent;\n",
              "      border-right-color: var(--fill-color);\n",
              "      border-bottom-color: var(--fill-color);\n",
              "    }\n",
              "    90% {\n",
              "      border-color: transparent;\n",
              "      border-bottom-color: var(--fill-color);\n",
              "    }\n",
              "  }\n",
              "</style>\n",
              "\n",
              "      <script>\n",
              "        async function quickchart(key) {\n",
              "          const quickchartButtonEl =\n",
              "            document.querySelector('#' + key + ' button');\n",
              "          quickchartButtonEl.disabled = true;  // To prevent multiple clicks.\n",
              "          quickchartButtonEl.classList.add('colab-df-spinner');\n",
              "          try {\n",
              "            const charts = await google.colab.kernel.invokeFunction(\n",
              "                'suggestCharts', [key], {});\n",
              "          } catch (error) {\n",
              "            console.error('Error during call to suggestCharts:', error);\n",
              "          }\n",
              "          quickchartButtonEl.classList.remove('colab-df-spinner');\n",
              "          quickchartButtonEl.classList.add('colab-df-quickchart-complete');\n",
              "        }\n",
              "        (() => {\n",
              "          let quickchartButtonEl =\n",
              "            document.querySelector('#df-21b18e79-2930-441d-97bf-0b078154d673 button');\n",
              "          quickchartButtonEl.style.display =\n",
              "            google.colab.kernel.accessAllowed ? 'block' : 'none';\n",
              "        })();\n",
              "      </script>\n",
              "    </div>\n",
              "\n",
              "    </div>\n",
              "  </div>\n"
            ],
            "application/vnd.google.colaboratory.intrinsic+json": {
              "type": "dataframe",
              "variable_name": "top5",
              "summary": "{\n  \"name\": \"top5\",\n  \"rows\": 150,\n  \"fields\": [\n    {\n      \"column\": \"sepal_length\",\n      \"properties\": {\n        \"dtype\": \"number\",\n        \"std\": 0.8280661279778635,\n        \"min\": 4.3,\n        \"max\": 7.9,\n        \"num_unique_values\": 35,\n        \"samples\": [\n          5.1,\n          6.4,\n          5.3\n        ],\n        \"semantic_type\": \"\",\n        \"description\": \"\"\n      }\n    },\n    {\n      \"column\": \"sepal_width\",\n      \"properties\": {\n        \"dtype\": \"number\",\n        \"std\": 0.43586628493669816,\n        \"min\": 2.0,\n        \"max\": 4.4,\n        \"num_unique_values\": 23,\n        \"samples\": [\n          4.4,\n          3.3,\n          3.8\n        ],\n        \"semantic_type\": \"\",\n        \"description\": \"\"\n      }\n    },\n    {\n      \"column\": \"petal_length\",\n      \"properties\": {\n        \"dtype\": \"number\",\n        \"std\": 1.7652982332594667,\n        \"min\": 1.0,\n        \"max\": 6.9,\n        \"num_unique_values\": 43,\n        \"samples\": [\n          1.9,\n          4.0,\n          4.2\n        ],\n        \"semantic_type\": \"\",\n        \"description\": \"\"\n      }\n    },\n    {\n      \"column\": \"petal_width\",\n      \"properties\": {\n        \"dtype\": \"number\",\n        \"std\": 0.7622376689603466,\n        \"min\": 0.1,\n        \"max\": 2.5,\n        \"num_unique_values\": 22,\n        \"samples\": [\n          2.0,\n          1.2,\n          1.4\n        ],\n        \"semantic_type\": \"\",\n        \"description\": \"\"\n      }\n    },\n    {\n      \"column\": \"species\",\n      \"properties\": {\n        \"dtype\": \"category\",\n        \"num_unique_values\": 3,\n        \"samples\": [\n          \"virginica\",\n          \"versicolor\",\n          \"setosa\"\n        ],\n        \"semantic_type\": \"\",\n        \"description\": \"\"\n      }\n    },\n    {\n      \"column\": \"petal_ratio\",\n      \"properties\": {\n        \"dtype\": \"number\",\n        \"std\": 2.4896482035705154,\n        \"min\": 2.125,\n        \"max\": 15.0,\n        \"num_unique_values\": 94,\n        \"samples\": [\n          2.6315789473684212,\n          2.2608695652173916,\n          2.833333333333333\n        ],\n        \"semantic_type\": \"\",\n        \"description\": \"\"\n      }\n    }\n  ]\n}"
            }
          },
          "metadata": {},
          "execution_count": 116
        }
      ]
    }
  ]
}